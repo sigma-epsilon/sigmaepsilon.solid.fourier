{
 "cells": [
  {
   "cell_type": "markdown",
   "metadata": {},
   "source": [
    "# Upload files to Microsoft Azure Storage Account\n",
    "\n",
    "https://learn.microsoft.com/en-us/azure/storage/blobs/storage-blob-upload-python"
   ]
  },
  {
   "cell_type": "code",
   "execution_count": 20,
   "metadata": {},
   "outputs": [
    {
     "data": {
      "text/plain": [
       "True"
      ]
     },
     "execution_count": 20,
     "metadata": {},
     "output_type": "execute_result"
    }
   ],
   "source": [
    "from dotenv import load_dotenv\n",
    "\n",
    "load_dotenv()"
   ]
  },
  {
   "cell_type": "code",
   "execution_count": 21,
   "metadata": {
    "tags": [
     "parameters"
    ]
   },
   "outputs": [],
   "source": [
    "job_id = \"_00000000001\"\n",
    "job_data_file_path = \"../outputs/\" + job_id + \"_data.json\""
   ]
  },
  {
   "cell_type": "code",
   "execution_count": 22,
   "metadata": {},
   "outputs": [
    {
     "name": "stdout",
     "output_type": "stream",
     "text": [
      "DeepDict\n",
      " +-- _meta\n",
      " +-- load\n",
      " +-- geometry\n",
      " +-- material\n",
      " +-- calculation\n",
      " |   +-- azure\n",
      " |       +-- storage\n",
      " +-- output\n"
     ]
    }
   ],
   "source": [
    "import json\n",
    "from sigmaepsilon.deepdict import DeepDict, asciiprint\n",
    "\n",
    "with open(job_data_file_path, \"r\") as json_file:\n",
    "    job_data = json.load(json_file)\n",
    "job_data : DeepDict = DeepDict.wrap(job_data)\n",
    "job_data.lock()\n",
    "asciiprint(job_data)"
   ]
  },
  {
   "cell_type": "markdown",
   "metadata": {},
   "source": [
    "## Input data"
   ]
  },
  {
   "cell_type": "code",
   "execution_count": 23,
   "metadata": {},
   "outputs": [],
   "source": [
    "job_id = job_data[\"_meta\",\"job_id\"]\n",
    "\n",
    "files_to_send = {\n",
    "    job_id + \"_data\":job_data[\"_meta\"][\"job_data_file_path\"],\n",
    "    job_id + \"_res2d\":job_data[\"output\"][\"absolute_file_path_res2d\"],\n",
    "    job_id + \"_res3d\":job_data[\"output\"][\"absolute_file_path_res3d\"],\n",
    "}\n",
    "container_name = job_data[\"calculation\"][\"azure\"][\"storage\"][\"container_name\"]"
   ]
  },
  {
   "cell_type": "code",
   "execution_count": 24,
   "metadata": {},
   "outputs": [
    {
     "data": {
      "text/plain": [
       "{'_00000000001_data': 'd:\\\\Projects\\\\SigmaEpsilon\\\\sigmaepsilon.solid.fourier\\\\apps\\\\plate_calculator_papermill_azure_pyvista\\\\outputs\\\\_00000000001_data.json',\n",
       " '_00000000001_res2d': 'd:\\\\Projects\\\\SigmaEpsilon\\\\sigmaepsilon.solid.fourier\\\\apps\\\\plate_calculator_papermill_azure_pyvista\\\\tasks\\\\_00000000001_res2d.parquet',\n",
       " '_00000000001_res3d': 'd:\\\\Projects\\\\SigmaEpsilon\\\\sigmaepsilon.solid.fourier\\\\apps\\\\plate_calculator_papermill_azure_pyvista\\\\tasks\\\\_00000000001_res3d.parquet'}"
      ]
     },
     "execution_count": 24,
     "metadata": {},
     "output_type": "execute_result"
    }
   ],
   "source": [
    "files_to_send"
   ]
  },
  {
   "cell_type": "code",
   "execution_count": 25,
   "metadata": {},
   "outputs": [
    {
     "data": {
      "text/plain": [
       "'navier'"
      ]
     },
     "execution_count": 25,
     "metadata": {},
     "output_type": "execute_result"
    }
   ],
   "source": [
    "container_name"
   ]
  },
  {
   "cell_type": "markdown",
   "metadata": {},
   "source": [
    "## Create a client object"
   ]
  },
  {
   "cell_type": "code",
   "execution_count": 26,
   "metadata": {},
   "outputs": [],
   "source": [
    "import os\n",
    "from azure.identity import DefaultAzureCredential\n",
    "from azure.storage.blob import BlobServiceClient\n",
    "\n",
    "storage_account_name = os.environ.get(\"AZURE_STORAGE_ACCOUNT_NAME\")\n",
    "account_url = f\"https://{storage_account_name}.blob.core.windows.net\"\n",
    "credential = DefaultAzureCredential()\n",
    "blob_service_client = BlobServiceClient(account_url, credential=credential)"
   ]
  },
  {
   "cell_type": "markdown",
   "metadata": {},
   "source": [
    "## Upload a block blob from a local file path"
   ]
  },
  {
   "cell_type": "markdown",
   "metadata": {},
   "source": [
    "Create a helper function"
   ]
  },
  {
   "cell_type": "code",
   "execution_count": 27,
   "metadata": {},
   "outputs": [],
   "source": [
    "import os\n",
    "from azure.storage.blob import BlobClient\n",
    "from functools import partial\n",
    "\n",
    "\n",
    "def upload_blob_file(\n",
    "    blob_service_client: BlobServiceClient,\n",
    "    container_name: str,\n",
    "    file_path: str,\n",
    "    file_name: str,\n",
    ") -> BlobClient:\n",
    "    container_client = blob_service_client.get_container_client(\n",
    "        container=container_name\n",
    "    )\n",
    "    with open(file=file_path, mode=\"rb\") as data:\n",
    "        blob_client = container_client.upload_blob(\n",
    "            name=file_name, data=data, overwrite=True\n",
    "        )\n",
    "    return blob_client\n",
    "\n",
    "\n",
    "folder_path = os.getcwd()\n",
    "uploader = partial(upload_blob_file, blob_service_client, container_name)"
   ]
  },
  {
   "cell_type": "code",
   "execution_count": 28,
   "metadata": {},
   "outputs": [],
   "source": [
    "folder_path = os.getcwd()\n",
    "for file_name, file_path in files_to_send.items():\n",
    "    uploader(file_name=file_name, file_path=file_path)"
   ]
  }
 ],
 "metadata": {
  "kernelspec": {
   "display_name": "sigmaepsilon-solid-fourier-9DWMC9cw-py3.10",
   "language": "python",
   "name": "python3"
  },
  "language_info": {
   "codemirror_mode": {
    "name": "ipython",
    "version": 3
   },
   "file_extension": ".py",
   "mimetype": "text/x-python",
   "name": "python",
   "nbconvert_exporter": "python",
   "pygments_lexer": "ipython3",
   "version": "3.10.11"
  }
 },
 "nbformat": 4,
 "nbformat_minor": 2
}
