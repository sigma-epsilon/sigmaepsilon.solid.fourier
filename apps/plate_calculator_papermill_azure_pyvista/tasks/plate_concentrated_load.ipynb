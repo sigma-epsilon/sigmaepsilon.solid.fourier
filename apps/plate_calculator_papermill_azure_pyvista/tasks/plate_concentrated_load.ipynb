{
 "cells": [
  {
   "cell_type": "markdown",
   "metadata": {},
   "source": [
    "# Solve and Postprocess the Plate Problem\n"
   ]
  },
  {
   "cell_type": "markdown",
   "metadata": {},
   "source": [
    "We will calculate deflections, strains, internal forces, stresses and utilizations for a Mindlin plate. We are also going to visualize the stresses using PyVista and save the results to disk.\n"
   ]
  },
  {
   "cell_type": "code",
   "execution_count": 72,
   "metadata": {
    "tags": [
     "parameters"
    ]
   },
   "outputs": [],
   "source": [
    "job_id = \"_00000000001\"\n",
    "job_data_file_path = \"../outputs/\" + job_id + \"_data.json\""
   ]
  },
  {
   "cell_type": "code",
   "execution_count": 73,
   "metadata": {},
   "outputs": [
    {
     "name": "stdout",
     "output_type": "stream",
     "text": [
      "DeepDict\n",
      " +-- _meta\n",
      " +-- load\n",
      " +-- geometry\n",
      " +-- material\n",
      " +-- calculation\n",
      " |   +-- azure\n",
      " |       +-- storage\n",
      " +-- output\n"
     ]
    }
   ],
   "source": [
    "import json\n",
    "from sigmaepsilon.deepdict import DeepDict, asciiprint\n",
    "\n",
    "with open(job_data_file_path, \"r\") as json_file:\n",
    "    job_data = json.load(json_file)\n",
    "job_data : DeepDict = DeepDict.wrap(job_data)\n",
    "job_data.lock()\n",
    "asciiprint(job_data)"
   ]
  },
  {
   "cell_type": "code",
   "execution_count": 74,
   "metadata": {},
   "outputs": [],
   "source": [
    "job_id = job_data[\"_meta\",\"job_id\"]\n",
    "\n",
    "# geometry\n",
    "length_X = job_data[\"geometry\", \"width\"]\n",
    "length_Y = job_data[\"geometry\", \"height\"]\n",
    "thickness = job_data[\"geometry\", \"thickness\"]\n",
    "\n",
    "# material properties\n",
    "young_modulus = job_data[\"material\", \"youngs_modulus\"]\n",
    "poisson_ratio = job_data[\"material\", \"poissons_ratio\"]\n",
    "yield_strength = job_data[\"material\", \"yield_strength\"]\n",
    "\n",
    "# solution parameters\n",
    "number_of_modes_X = job_data[\"calculation\", \"nx\"]\n",
    "number_of_modes_Y = job_data[\"calculation\", \"ny\"]\n",
    "\n",
    "# concentrated load\n",
    "load_position = job_data[\"load\", \"position\"]\n",
    "load_value = job_data[\"load\", \"value\"]"
   ]
  },
  {
   "cell_type": "code",
   "execution_count": 75,
   "metadata": {},
   "outputs": [],
   "source": [
    "import ast\n",
    "import numpy as np\n",
    "\n",
    "from sigmaepsilon.math.linalg import ReferenceFrame\n",
    "\n",
    "from sigmaepsilon.solid.material import MindlinPlateSection as Section\n",
    "from sigmaepsilon.solid.material import (\n",
    "\n",
    "    ElasticityTensor,\n",
    "    LinearElasticMaterial,\n",
    "    HuberMisesHenckyFailureCriterion_SP,\n",
    ")\n",
    "from sigmaepsilon.solid.material.utils import elastic_stiffness_matrix\n",
    "from sigmaepsilon.solid.fourier import (\n",
    "    NavierPlate,\n",
    "    LoadGroup,\n",
    "    PointLoad,\n",
    ")\n",
    "\n",
    "if isinstance(load_value, str):\n",
    "    load_value = ast.literal_eval(load_value)\n",
    "if isinstance(load_position, str):\n",
    "    load_position = ast.literal_eval(load_position)\n",
    "load_position = np.array(load_position)\n",
    "load_value = np.array(load_value)\n",
    "\n",
    "# set up loads\n",
    "loads = LoadGroup(LC=PointLoad(load_position, load_value))\n",
    "\n",
    "# setting up hooke's law\n",
    "hooke = elastic_stiffness_matrix(E=young_modulus, NU=poisson_ratio)\n",
    "frame = ReferenceFrame(dim=3)\n",
    "stiffness = ElasticityTensor(hooke, frame=frame, tensorial=False)\n",
    "failure_model = HuberMisesHenckyFailureCriterion_SP(yield_strength=yield_strength)\n",
    "material = LinearElasticMaterial(stiffness=stiffness, failure_model=failure_model)\n",
    "\n",
    "# section stiffness\n",
    "section = Section(\n",
    "    layers=[\n",
    "        Section.Layer(material=material, thickness=thickness),\n",
    "    ]\n",
    ")\n",
    "ABDS_matrix = section.elastic_stiffness_matrix()\n",
    "bending_stiffness, shear_stiffness = (\n",
    "    np.ascontiguousarray(ABDS_matrix[:3, :3]),\n",
    "    np.ascontiguousarray(ABDS_matrix[3:, 3:]),\n",
    ")\n",
    "\n",
    "# nx, ny = (240, 320)  # for higher resolution\n",
    "nx, ny = (150, 200)\n",
    "x = np.linspace(0, length_X, nx)\n",
    "y = np.linspace(0, length_Y, ny)\n",
    "xv, yv = np.meshgrid(x, y)\n",
    "evaluation_points = np.stack((xv.flatten(), yv.flatten()), axis=1)\n",
    "\n",
    "plate = NavierPlate(\n",
    "    (length_X, length_Y),\n",
    "    (number_of_modes_X, number_of_modes_Y),\n",
    "    D=bending_stiffness,\n",
    "    S=shear_stiffness,\n",
    ")\n",
    "\n",
    "results = plate.linear_static_analysis(evaluation_points, loads)"
   ]
  },
  {
   "cell_type": "markdown",
   "metadata": {},
   "source": [
    "## Calculate 2d and 3d results\n"
   ]
  },
  {
   "cell_type": "code",
   "execution_count": 76,
   "metadata": {},
   "outputs": [],
   "source": [
    "load_case_results = results[\"LC\"].values\n",
    "strains = results[\"LC\"].strains\n",
    "z = np.linspace(-thickness / 2, thickness / 2, 20)\n",
    "rng = (-thickness / 2, thickness / 2)\n",
    "util, util_coords = section.utilization(\n",
    "    strains=strains, rng=rng, z=z, coords=evaluation_points, return_coords=True\n",
    ")\n",
    "num_XY, num_Z = util_coords.shape[:2]\n",
    "util_coords = util_coords.reshape((num_XY * num_Z, 3))\n",
    "util = util.values.flatten()"
   ]
  },
  {
   "cell_type": "markdown",
   "metadata": {},
   "source": [
    "## Save files to Parquet format"
   ]
  },
  {
   "cell_type": "code",
   "execution_count": 77,
   "metadata": {},
   "outputs": [
    {
     "name": "stdout",
     "output_type": "stream",
     "text": [
      "Files saved to destination!\n"
     ]
    }
   ],
   "source": [
    "from sigmaepsilon.mesh import PointData\n",
    "\n",
    "res2d_parquet_file_path = job_id + \"_res2d\" + \".parquet\"\n",
    "pd = PointData(evaluation_points, results=results[\"LC\"].values)\n",
    "pd.to_parquet(res2d_parquet_file_path)\n",
    "\n",
    "res3d_parquet_file_path = job_id + \"_res3d\" + \".parquet\"\n",
    "pd = PointData(util_coords, util=util)\n",
    "pd.to_parquet(res3d_parquet_file_path)\n",
    "\n",
    "print(\"Files saved to destination!\")"
   ]
  },
  {
   "cell_type": "code",
   "execution_count": 79,
   "metadata": {},
   "outputs": [],
   "source": [
    "import json, os\n",
    "\n",
    "job_data.unlock()\n",
    "absolute_file_path_res2d = os.path.abspath(res2d_parquet_file_path)\n",
    "job_data[\"output\"][\"absolute_file_path_res2d\"] = absolute_file_path_res2d\n",
    "absolute_file_path_res3d = os.path.abspath(res3d_parquet_file_path)\n",
    "job_data[\"output\"][\"absolute_file_path_res3d\"] = absolute_file_path_res3d\n",
    "with open(job_data_file_path, \"w\") as json_file:\n",
    "    json.dump(job_data, json_file, indent=4)"
   ]
  },
  {
   "cell_type": "code",
   "execution_count": 80,
   "metadata": {},
   "outputs": [
    {
     "data": {
      "text/plain": [
       "'../outputs/_00000000001_data.json'"
      ]
     },
     "execution_count": 80,
     "metadata": {},
     "output_type": "execute_result"
    }
   ],
   "source": [
    "job_data_file_path"
   ]
  }
 ],
 "metadata": {
  "kernelspec": {
   "display_name": "sigmaepsilon-solid-fourier-9DWMC9cw-py3.10",
   "language": "python",
   "name": "python3"
  },
  "language_info": {
   "codemirror_mode": {
    "name": "ipython",
    "version": 3
   },
   "file_extension": ".py",
   "mimetype": "text/x-python",
   "name": "python",
   "nbconvert_exporter": "python",
   "pygments_lexer": "ipython3",
   "version": "3.10.11"
  },
  "orig_nbformat": 4
 },
 "nbformat": 4,
 "nbformat_minor": 2
}
