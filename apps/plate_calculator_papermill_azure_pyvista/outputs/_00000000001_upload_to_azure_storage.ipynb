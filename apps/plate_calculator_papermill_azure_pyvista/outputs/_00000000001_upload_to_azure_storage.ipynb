{
 "cells": [
  {
   "cell_type": "markdown",
   "id": "8c91bff8",
   "metadata": {
    "papermill": {
     "duration": 0.0,
     "end_time": "2025-01-18T12:38:51.114333",
     "exception": false,
     "start_time": "2025-01-18T12:38:51.114333",
     "status": "completed"
    },
    "tags": []
   },
   "source": [
    "# Upload files to Microsoft Azure Storage Account\n",
    "\n",
    "https://learn.microsoft.com/en-us/azure/storage/blobs/storage-blob-upload-python"
   ]
  },
  {
   "cell_type": "code",
   "execution_count": 1,
   "id": "c92f5d04",
   "metadata": {
    "execution": {
     "iopub.execute_input": "2025-01-18T12:38:51.152604Z",
     "iopub.status.busy": "2025-01-18T12:38:51.151591Z",
     "iopub.status.idle": "2025-01-18T12:38:51.192973Z",
     "shell.execute_reply": "2025-01-18T12:38:51.192390Z"
    },
    "papermill": {
     "duration": 0.061693,
     "end_time": "2025-01-18T12:38:51.192973",
     "exception": false,
     "start_time": "2025-01-18T12:38:51.131280",
     "status": "completed"
    },
    "tags": []
   },
   "outputs": [
    {
     "data": {
      "text/plain": [
       "True"
      ]
     },
     "execution_count": 1,
     "metadata": {},
     "output_type": "execute_result"
    }
   ],
   "source": [
    "from dotenv import load_dotenv\n",
    "\n",
    "load_dotenv()"
   ]
  },
  {
   "cell_type": "code",
   "execution_count": 2,
   "id": "c94ed66f",
   "metadata": {
    "execution": {
     "iopub.execute_input": "2025-01-18T12:38:51.200482Z",
     "iopub.status.busy": "2025-01-18T12:38:51.200482Z",
     "iopub.status.idle": "2025-01-18T12:38:51.216659Z",
     "shell.execute_reply": "2025-01-18T12:38:51.216659Z"
    },
    "papermill": {
     "duration": 0.016177,
     "end_time": "2025-01-18T12:38:51.216659",
     "exception": false,
     "start_time": "2025-01-18T12:38:51.200482",
     "status": "completed"
    },
    "tags": [
     "parameters"
    ]
   },
   "outputs": [],
   "source": [
    "job_id = \"_00000000001\"\n",
    "job_data_file_path = \"../outputs/\" + job_id + \"_data.json\""
   ]
  },
  {
   "cell_type": "code",
   "execution_count": 3,
   "id": "e88f271e",
   "metadata": {
    "execution": {
     "iopub.execute_input": "2025-01-18T12:38:51.226782Z",
     "iopub.status.busy": "2025-01-18T12:38:51.226782Z",
     "iopub.status.idle": "2025-01-18T12:38:51.240467Z",
     "shell.execute_reply": "2025-01-18T12:38:51.240467Z"
    },
    "papermill": {
     "duration": 0.026696,
     "end_time": "2025-01-18T12:38:51.243355",
     "exception": false,
     "start_time": "2025-01-18T12:38:51.216659",
     "status": "completed"
    },
    "tags": [
     "injected-parameters"
    ]
   },
   "outputs": [],
   "source": [
    "# Parameters\n",
    "job_data_file_path = \"d:\\\\Projects\\\\SigmaEpsilon\\\\sigmaepsilon.solid.fourier\\\\apps\\\\plate_calculator_papermill_azure_pyvista\\\\outputs\\\\_00000000001_data.json\"\n"
   ]
  },
  {
   "cell_type": "code",
   "execution_count": 4,
   "id": "ddd8bd7f",
   "metadata": {
    "execution": {
     "iopub.execute_input": "2025-01-18T12:38:51.253055Z",
     "iopub.status.busy": "2025-01-18T12:38:51.253055Z",
     "iopub.status.idle": "2025-01-18T12:38:51.339123Z",
     "shell.execute_reply": "2025-01-18T12:38:51.339123Z"
    },
    "papermill": {
     "duration": 0.088853,
     "end_time": "2025-01-18T12:38:51.339123",
     "exception": false,
     "start_time": "2025-01-18T12:38:51.250270",
     "status": "completed"
    },
    "tags": []
   },
   "outputs": [
    {
     "name": "stdout",
     "output_type": "stream",
     "text": [
      "DeepDict\n",
      " +-- _meta\n",
      " +-- load\n",
      " +-- geometry\n",
      " +-- material\n",
      " +-- calculation\n",
      " |   +-- azure\n",
      " |       +-- storage\n",
      " +-- output\n"
     ]
    }
   ],
   "source": [
    "import json\n",
    "from sigmaepsilon.deepdict import DeepDict, asciiprint\n",
    "\n",
    "with open(job_data_file_path, \"r\") as json_file:\n",
    "    job_data = json.load(json_file)\n",
    "job_data : DeepDict = DeepDict.wrap(job_data)\n",
    "job_data.lock()\n",
    "asciiprint(job_data)"
   ]
  },
  {
   "cell_type": "markdown",
   "id": "8fe3e309",
   "metadata": {
    "papermill": {
     "duration": 0.002155,
     "end_time": "2025-01-18T12:38:51.348246",
     "exception": false,
     "start_time": "2025-01-18T12:38:51.346091",
     "status": "completed"
    },
    "tags": []
   },
   "source": [
    "## Input data"
   ]
  },
  {
   "cell_type": "code",
   "execution_count": 5,
   "id": "2b2873fa",
   "metadata": {
    "execution": {
     "iopub.execute_input": "2025-01-18T12:38:51.354231Z",
     "iopub.status.busy": "2025-01-18T12:38:51.354231Z",
     "iopub.status.idle": "2025-01-18T12:38:51.378280Z",
     "shell.execute_reply": "2025-01-18T12:38:51.376649Z"
    },
    "papermill": {
     "duration": 0.024049,
     "end_time": "2025-01-18T12:38:51.378280",
     "exception": false,
     "start_time": "2025-01-18T12:38:51.354231",
     "status": "completed"
    },
    "tags": []
   },
   "outputs": [],
   "source": [
    "job_id = job_data[\"_meta\",\"job_id\"]\n",
    "\n",
    "files_to_send = {\n",
    "    job_id + \"_data\":job_data[\"_meta\"][\"job_data_file_path\"],\n",
    "    job_id + \"_res2d\":job_data[\"output\"][\"absolute_file_path_res2d\"],\n",
    "    job_id + \"_res3d\":job_data[\"output\"][\"absolute_file_path_res3d\"],\n",
    "}\n",
    "container_name = job_data[\"calculation\"][\"azure\"][\"storage\"][\"container_name\"]"
   ]
  },
  {
   "cell_type": "code",
   "execution_count": 6,
   "id": "6c626dd2",
   "metadata": {
    "execution": {
     "iopub.execute_input": "2025-01-18T12:38:51.384790Z",
     "iopub.status.busy": "2025-01-18T12:38:51.384790Z",
     "iopub.status.idle": "2025-01-18T12:38:51.410239Z",
     "shell.execute_reply": "2025-01-18T12:38:51.408793Z"
    },
    "papermill": {
     "duration": 0.027502,
     "end_time": "2025-01-18T12:38:51.412292",
     "exception": false,
     "start_time": "2025-01-18T12:38:51.384790",
     "status": "completed"
    },
    "tags": []
   },
   "outputs": [
    {
     "data": {
      "text/plain": [
       "{'_00000000001_data': 'd:\\\\Projects\\\\SigmaEpsilon\\\\sigmaepsilon.solid.fourier\\\\apps\\\\plate_calculator_papermill_azure_pyvista\\\\outputs\\\\_00000000001_data.json',\n",
       " '_00000000001_res2d': 'd:\\\\Projects\\\\SigmaEpsilon\\\\sigmaepsilon.solid.fourier\\\\apps\\\\plate_calculator_papermill_azure_pyvista\\\\_00000000001_res2d.parquet',\n",
       " '_00000000001_res3d': 'd:\\\\Projects\\\\SigmaEpsilon\\\\sigmaepsilon.solid.fourier\\\\apps\\\\plate_calculator_papermill_azure_pyvista\\\\_00000000001_res3d.parquet'}"
      ]
     },
     "execution_count": 6,
     "metadata": {},
     "output_type": "execute_result"
    }
   ],
   "source": [
    "files_to_send"
   ]
  },
  {
   "cell_type": "code",
   "execution_count": 7,
   "id": "f9ed408f",
   "metadata": {
    "execution": {
     "iopub.execute_input": "2025-01-18T12:38:51.412292Z",
     "iopub.status.busy": "2025-01-18T12:38:51.412292Z",
     "iopub.status.idle": "2025-01-18T12:38:51.441590Z",
     "shell.execute_reply": "2025-01-18T12:38:51.440820Z"
    },
    "papermill": {
     "duration": 0.031379,
     "end_time": "2025-01-18T12:38:51.443671",
     "exception": false,
     "start_time": "2025-01-18T12:38:51.412292",
     "status": "completed"
    },
    "tags": []
   },
   "outputs": [
    {
     "data": {
      "text/plain": [
       "'navier'"
      ]
     },
     "execution_count": 7,
     "metadata": {},
     "output_type": "execute_result"
    }
   ],
   "source": [
    "container_name"
   ]
  },
  {
   "cell_type": "markdown",
   "id": "3320d18b",
   "metadata": {
    "papermill": {
     "duration": 0.008137,
     "end_time": "2025-01-18T12:38:51.461289",
     "exception": false,
     "start_time": "2025-01-18T12:38:51.453152",
     "status": "completed"
    },
    "tags": []
   },
   "source": [
    "## Create a client object"
   ]
  },
  {
   "cell_type": "code",
   "execution_count": 8,
   "id": "d35053b4",
   "metadata": {
    "execution": {
     "iopub.execute_input": "2025-01-18T12:38:51.477899Z",
     "iopub.status.busy": "2025-01-18T12:38:51.477766Z",
     "iopub.status.idle": "2025-01-18T12:38:51.957558Z",
     "shell.execute_reply": "2025-01-18T12:38:51.957558Z"
    },
    "papermill": {
     "duration": 0.487663,
     "end_time": "2025-01-18T12:38:51.957558",
     "exception": false,
     "start_time": "2025-01-18T12:38:51.469895",
     "status": "completed"
    },
    "tags": []
   },
   "outputs": [],
   "source": [
    "import os\n",
    "from azure.identity import DefaultAzureCredential\n",
    "from azure.storage.blob import BlobServiceClient\n",
    "\n",
    "storage_account_name = os.environ.get(\"AZURE_STORAGE_ACCOUNT_NAME\")\n",
    "account_url = f\"https://{storage_account_name}.blob.core.windows.net\"\n",
    "credential = DefaultAzureCredential()\n",
    "blob_service_client = BlobServiceClient(account_url, credential=credential)"
   ]
  },
  {
   "cell_type": "markdown",
   "id": "12966aea",
   "metadata": {
    "papermill": {
     "duration": 0.0,
     "end_time": "2025-01-18T12:38:51.957558",
     "exception": false,
     "start_time": "2025-01-18T12:38:51.957558",
     "status": "completed"
    },
    "tags": []
   },
   "source": [
    "## Upload a block blob from a local file path"
   ]
  },
  {
   "cell_type": "markdown",
   "id": "0b17eb1f",
   "metadata": {
    "papermill": {
     "duration": 0.006109,
     "end_time": "2025-01-18T12:38:51.983862",
     "exception": false,
     "start_time": "2025-01-18T12:38:51.977753",
     "status": "completed"
    },
    "tags": []
   },
   "source": [
    "Create a helper function"
   ]
  },
  {
   "cell_type": "code",
   "execution_count": 9,
   "id": "2cd5ae48",
   "metadata": {
    "execution": {
     "iopub.execute_input": "2025-01-18T12:38:51.994676Z",
     "iopub.status.busy": "2025-01-18T12:38:51.994676Z",
     "iopub.status.idle": "2025-01-18T12:38:52.011562Z",
     "shell.execute_reply": "2025-01-18T12:38:52.010341Z"
    },
    "papermill": {
     "duration": 0.0277,
     "end_time": "2025-01-18T12:38:52.011562",
     "exception": false,
     "start_time": "2025-01-18T12:38:51.983862",
     "status": "completed"
    },
    "tags": []
   },
   "outputs": [],
   "source": [
    "import os\n",
    "from azure.storage.blob import BlobClient\n",
    "from functools import partial\n",
    "\n",
    "\n",
    "def upload_blob_file(\n",
    "    blob_service_client: BlobServiceClient,\n",
    "    container_name: str,\n",
    "    file_path: str,\n",
    "    file_name: str,\n",
    ") -> BlobClient:\n",
    "    container_client = blob_service_client.get_container_client(\n",
    "        container=container_name\n",
    "    )\n",
    "    with open(file=file_path, mode=\"rb\") as data:\n",
    "        blob_client = container_client.upload_blob(\n",
    "            name=file_name, data=data, overwrite=True\n",
    "        )\n",
    "    return blob_client\n",
    "\n",
    "\n",
    "folder_path = os.getcwd()\n",
    "uploader = partial(upload_blob_file, blob_service_client, container_name)"
   ]
  },
  {
   "cell_type": "code",
   "execution_count": 10,
   "id": "059461c9",
   "metadata": {
    "execution": {
     "iopub.execute_input": "2025-01-18T12:38:52.018572Z",
     "iopub.status.busy": "2025-01-18T12:38:52.018572Z",
     "iopub.status.idle": "2025-01-18T12:38:54.613967Z",
     "shell.execute_reply": "2025-01-18T12:38:54.613967Z"
    },
    "papermill": {
     "duration": 2.602405,
     "end_time": "2025-01-18T12:38:54.613967",
     "exception": false,
     "start_time": "2025-01-18T12:38:52.011562",
     "status": "completed"
    },
    "tags": []
   },
   "outputs": [],
   "source": [
    "folder_path = os.getcwd()\n",
    "for file_name, file_path in files_to_send.items():\n",
    "    uploader(file_name=file_name, file_path=file_path)"
   ]
  }
 ],
 "metadata": {
  "kernelspec": {
   "display_name": "sigmaepsilon-solid-fourier-9DWMC9cw-py3.10",
   "language": "python",
   "name": "python3"
  },
  "language_info": {
   "codemirror_mode": {
    "name": "ipython",
    "version": 3
   },
   "file_extension": ".py",
   "mimetype": "text/x-python",
   "name": "python",
   "nbconvert_exporter": "python",
   "pygments_lexer": "ipython3",
   "version": "3.10.11"
  },
  "papermill": {
   "default_parameters": {},
   "duration": 5.515232,
   "end_time": "2025-01-18T12:38:55.084369",
   "environment_variables": {},
   "exception": null,
   "input_path": "tasks/upload_to_azure_storage.ipynb",
   "output_path": "outputs/_00000000001_upload_to_azure_storage.ipynb",
   "parameters": {
    "job_data_file_path": "d:\\Projects\\SigmaEpsilon\\sigmaepsilon.solid.fourier\\apps\\plate_calculator_papermill_azure_pyvista\\outputs\\_00000000001_data.json"
   },
   "start_time": "2025-01-18T12:38:49.569137",
   "version": "2.6.0"
  }
 },
 "nbformat": 4,
 "nbformat_minor": 5
}