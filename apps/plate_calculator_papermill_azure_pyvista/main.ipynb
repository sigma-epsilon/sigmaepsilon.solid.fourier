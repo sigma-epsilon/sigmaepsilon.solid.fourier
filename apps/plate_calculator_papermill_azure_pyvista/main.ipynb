{
 "cells": [
  {
   "cell_type": "markdown",
   "metadata": {},
   "source": [
    "# Plate Calculator Application"
   ]
  },
  {
   "cell_type": "markdown",
   "metadata": {},
   "source": [
    "## Prepare job data"
   ]
  },
  {
   "cell_type": "code",
   "execution_count": 11,
   "metadata": {},
   "outputs": [],
   "source": [
    "import json, os\n",
    "\n",
    "job_data = {\n",
    "    \"_meta\": {\n",
    "        \"job_id\": \"_00000000001\",\n",
    "    },\n",
    "    \"load\": {\"position\": (350.0, 450.0), \"value\": (-50.0, 0.0, 0.0)},\n",
    "    \"geometry\": {\"width\": 100.0, \"height\": 100.0, \"thickness\": 10.0},\n",
    "    \"material\": {\n",
    "        \"youngs_modulus\": 200.0,\n",
    "        \"poissons_ratio\": 0.3,\n",
    "        \"yield_strength\": 7800.0,\n",
    "        \"density\": 7800.0,\n",
    "    },\n",
    "    \"calculation\": {\n",
    "        \"nx\": 10,\n",
    "        \"ny\": 10,\n",
    "        \"azure\": {\"storage\": {\"container_name\": \"navier\"}},\n",
    "    },\n",
    "    \"output\": {\"folder\": \"outputs\"},\n",
    "}\n",
    "\n",
    "job_data_file_path = \"outputs/\" + job_data[\"_meta\"][\"job_id\"] + \"_data.json\"\n",
    "absolute_file_path = os.path.abspath(job_data_file_path)\n",
    "job_data[\"_meta\"][\"job_data_file_path\"] = absolute_file_path\n",
    "with open(absolute_file_path, \"w\") as json_file:\n",
    "    json.dump(job_data, json_file, indent=4)"
   ]
  },
  {
   "cell_type": "markdown",
   "metadata": {},
   "source": [
    "## Prepare helper function"
   ]
  },
  {
   "cell_type": "code",
   "execution_count": 12,
   "metadata": {},
   "outputs": [],
   "source": [
    "import papermill as pm\n",
    "from nbformat import NotebookNode\n",
    "\n",
    "\n",
    "def run_notebook(input_notebook_name: str) -> NotebookNode:\n",
    "    input_notebook_path = \"tasks/\" + input_notebook_name\n",
    "    output_notebook_name = \"_\".join((job_data[\"_meta\"][\"job_id\"], input_notebook_name))\n",
    "    output_notebook_path = \"outputs/\" + output_notebook_name\n",
    "\n",
    "    execution_result: NotebookNode = pm.execute_notebook(\n",
    "        input_notebook_path,\n",
    "        output_notebook_path,\n",
    "        parameters={\n",
    "            \"job_data_file_path\": absolute_file_path,\n",
    "        },\n",
    "    )\n",
    "\n",
    "    return execution_result"
   ]
  },
  {
   "cell_type": "code",
   "execution_count": 13,
   "metadata": {},
   "outputs": [
    {
     "data": {
      "application/vnd.jupyter.widget-view+json": {
       "model_id": "dd824635ad844c4ebb1a89f8b16b6011",
       "version_major": 2,
       "version_minor": 0
      },
      "text/plain": [
       "Executing:   0%|          | 0/13 [00:00<?, ?cell/s]"
      ]
     },
     "metadata": {},
     "output_type": "display_data"
    },
    {
     "name": "stdout",
     "output_type": "stream",
     "text": [
      "Task plate_concentrated_load executed successfully\n"
     ]
    },
    {
     "data": {
      "application/vnd.jupyter.widget-view+json": {
       "model_id": "1fd756ff1bc54b9bbece71182fd05682",
       "version_major": 2,
       "version_minor": 0
      },
      "text/plain": [
       "Executing:   0%|          | 0/6 [00:00<?, ?cell/s]"
      ]
     },
     "metadata": {},
     "output_type": "display_data"
    },
    {
     "name": "stdout",
     "output_type": "stream",
     "text": [
      "Task plot_with_pyVista executed successfully\n"
     ]
    },
    {
     "data": {
      "application/vnd.jupyter.widget-view+json": {
       "model_id": "60beb520de2b48d0a5defd5163e8f773",
       "version_major": 2,
       "version_minor": 0
      },
      "text/plain": [
       "Executing:   0%|          | 0/15 [00:00<?, ?cell/s]"
      ]
     },
     "metadata": {},
     "output_type": "display_data"
    },
    {
     "name": "stdout",
     "output_type": "stream",
     "text": [
      "Task upload_to_azure_storage executed successfully\n"
     ]
    }
   ],
   "source": [
    "tasks = (\n",
    "    \"plate_concentrated_load\", # Task 1 - Plate with Concentrated Load\n",
    "    \"plot_with_pyVista\",       # Task 2 - Plot with pyVista\n",
    "    \"upload_to_azure_storage\"  # Task 3 - Upload to Azure Storage\n",
    ")\n",
    "\n",
    "for task in tasks:\n",
    "    execution_result = run_notebook(task + \".ipynb\")\n",
    "    print(f\"Task {task} executed successfully\")\n",
    "    "
   ]
  }
 ],
 "metadata": {
  "kernelspec": {
   "display_name": "sigmaepsilon-solid-fourier-9DWMC9cw-py3.10",
   "language": "python",
   "name": "python3"
  },
  "language_info": {
   "codemirror_mode": {
    "name": "ipython",
    "version": 3
   },
   "file_extension": ".py",
   "mimetype": "text/x-python",
   "name": "python",
   "nbconvert_exporter": "python",
   "pygments_lexer": "ipython3",
   "version": "3.10.11"
  }
 },
 "nbformat": 4,
 "nbformat_minor": 2
}
