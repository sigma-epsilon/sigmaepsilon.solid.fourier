{
 "cells": [
  {
   "cell_type": "markdown",
   "metadata": {},
   "source": [
    "# Plate Calculator Application"
   ]
  },
  {
   "cell_type": "code",
   "execution_count": 5,
   "metadata": {},
   "outputs": [
    {
     "name": "stdout",
     "output_type": "stream",
     "text": [
      "Library version:  1.0.0\n",
      "Python version: 3.10.11 (tags/v3.10.11:7d4cc5a, Apr  5 2023, 00:38:17) [MSC v.1929 64 bit (AMD64)]\n",
      "Operating System: Windows 10\n",
      "Platform info: Windows-10-10.0.22631-SP0\n",
      "Processor: Intel64 Family 6 Model 140 Stepping 1, GenuineIntel\n",
      "Machine: AMD64\n",
      "CPU Count: 8\n"
     ]
    }
   ],
   "source": [
    "import sys, os\n",
    "import platform\n",
    "import sigmaepsilon.solid.fourier as fourier\n",
    "\n",
    "print(\"Library version: \", fourier.__version__)\n",
    "\n",
    "# Print Python version\n",
    "print(\"Python version:\", sys.version)\n",
    "\n",
    "# Print OS information\n",
    "print(\"Operating System:\", platform.system(), platform.release())\n",
    "print(\"Platform info:\", platform.platform())\n",
    "\n",
    "# Print processor and machine architecture\n",
    "print(\"Processor:\", platform.processor())\n",
    "print(\"Machine:\", platform.machine())\n",
    "\n",
    "# Optionally, print the CPU core count\n",
    "# (works in Python 3.4+, returns None if undetermined)\n",
    "print(\"CPU Count:\", os.cpu_count())"
   ]
  },
  {
   "cell_type": "markdown",
   "metadata": {},
   "source": [
    "## Prepare job data"
   ]
  },
  {
   "cell_type": "code",
   "execution_count": 6,
   "metadata": {},
   "outputs": [],
   "source": [
    "import json, os\n",
    "\n",
    "job_data = {\n",
    "    \"_meta\": {\n",
    "        \"job_id\": \"_00000000001\",\n",
    "    },\n",
    "    \"load\": {\"position\": (350.0, 450.0), \"value\": (-50.0, 0.0, 0.0)},\n",
    "    \"geometry\": {\"width\": 100.0, \"height\": 100.0, \"thickness\": 10.0},\n",
    "    \"material\": {\n",
    "        \"youngs_modulus\": 200.0,\n",
    "        \"poissons_ratio\": 0.3,\n",
    "        \"yield_strength\": 7800.0,\n",
    "        \"density\": 7800.0,\n",
    "    },\n",
    "    \"calculation\": {\n",
    "        \"nx\": 10,\n",
    "        \"ny\": 10,\n",
    "        \"azure\": {\"storage\": {\"container_name\": \"navier\"}},\n",
    "    },\n",
    "    \"output\": {\"folder\": \"outputs\"},\n",
    "}\n",
    "\n",
    "job_data_file_path = \"outputs/\" + job_data[\"_meta\"][\"job_id\"] + \"_data.json\"\n",
    "absolute_file_path = os.path.abspath(job_data_file_path)\n",
    "job_data[\"_meta\"][\"job_data_file_path\"] = absolute_file_path\n",
    "with open(absolute_file_path, \"w\") as json_file:\n",
    "    json.dump(job_data, json_file, indent=4)"
   ]
  },
  {
   "cell_type": "markdown",
   "metadata": {},
   "source": [
    "## Prepare helper function"
   ]
  },
  {
   "cell_type": "code",
   "execution_count": 7,
   "metadata": {},
   "outputs": [],
   "source": [
    "import papermill as pm\n",
    "from nbformat import NotebookNode\n",
    "\n",
    "\n",
    "def run_notebook(input_notebook_name: str) -> NotebookNode:\n",
    "    input_notebook_path = \"tasks/\" + input_notebook_name\n",
    "    output_notebook_name = \"_\".join((job_data[\"_meta\"][\"job_id\"], input_notebook_name))\n",
    "    output_notebook_path = \"outputs/\" + output_notebook_name\n",
    "\n",
    "    execution_result: NotebookNode = pm.execute_notebook(\n",
    "        input_notebook_path,\n",
    "        output_notebook_path,\n",
    "        parameters={\n",
    "            \"job_data_file_path\": absolute_file_path,\n",
    "        },\n",
    "    )\n",
    "\n",
    "    return execution_result"
   ]
  },
  {
   "cell_type": "code",
   "execution_count": 8,
   "metadata": {},
   "outputs": [
    {
     "data": {
      "application/vnd.jupyter.widget-view+json": {
       "model_id": "7478d428a9f14a40b1f5f99235688d29",
       "version_major": 2,
       "version_minor": 0
      },
      "text/plain": [
       "Executing:   0%|          | 0/13 [00:00<?, ?cell/s]"
      ]
     },
     "metadata": {},
     "output_type": "display_data"
    },
    {
     "name": "stdout",
     "output_type": "stream",
     "text": [
      "Task plate_concentrated_load executed successfully\n"
     ]
    },
    {
     "data": {
      "application/vnd.jupyter.widget-view+json": {
       "model_id": "682d79db4fe94ce8aa0b1895659bf2c3",
       "version_major": 2,
       "version_minor": 0
      },
      "text/plain": [
       "Executing:   0%|          | 0/6 [00:00<?, ?cell/s]"
      ]
     },
     "metadata": {},
     "output_type": "display_data"
    },
    {
     "name": "stdout",
     "output_type": "stream",
     "text": [
      "Task plot_with_pyVista executed successfully\n"
     ]
    },
    {
     "data": {
      "application/vnd.jupyter.widget-view+json": {
       "model_id": "f461a68620174eb0aba3183c0683d136",
       "version_major": 2,
       "version_minor": 0
      },
      "text/plain": [
       "Executing:   0%|          | 0/15 [00:00<?, ?cell/s]"
      ]
     },
     "metadata": {},
     "output_type": "display_data"
    },
    {
     "name": "stdout",
     "output_type": "stream",
     "text": [
      "Task upload_to_azure_storage executed successfully\n"
     ]
    }
   ],
   "source": [
    "tasks = (\n",
    "    \"plate_concentrated_load\", # Task 1 - Plate with Concentrated Load\n",
    "    \"plot_with_pyVista\",       # Task 2 - Plot with pyVista\n",
    "    \"upload_to_azure_storage\"  # Task 3 - Upload to Azure Storage\n",
    ")\n",
    "\n",
    "for task in tasks:\n",
    "    execution_result = run_notebook(task + \".ipynb\")\n",
    "    print(f\"Task {task} executed successfully\")\n",
    "    "
   ]
  }
 ],
 "metadata": {
  "kernelspec": {
   "display_name": "sigmaepsilon-solid-fourier-9DWMC9cw-py3.10",
   "language": "python",
   "name": "python3"
  },
  "language_info": {
   "codemirror_mode": {
    "name": "ipython",
    "version": 3
   },
   "file_extension": ".py",
   "mimetype": "text/x-python",
   "name": "python",
   "nbconvert_exporter": "python",
   "pygments_lexer": "ipython3",
   "version": "3.10.11"
  }
 },
 "nbformat": 4,
 "nbformat_minor": 2
}
