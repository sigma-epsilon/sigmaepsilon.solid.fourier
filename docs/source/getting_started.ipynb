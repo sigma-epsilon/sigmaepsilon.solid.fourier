{
 "cells": [
  {
   "cell_type": "markdown",
   "metadata": {},
   "source": [
    "# Getting started\n",
    "\n",
    "## How to use the documentation?\n",
    "\n",
    "The documentation is devoted to three main parts:\n",
    "* **Getting Started Guide** - This very guide you are reading. It helps you to get started with the library by laying down the steps of a miniature course, through wich you hopefully get a hang of things.\n",
    "* **User Guide** - Introduces the concepts of the library and illustrates the usage of the classes and algorithms by small examples. All of the chapters can be downloaded as Jupyter Notebooks from the source repository of the library using the link at the top of the pages.\n",
    "* **API Reference** - The documentation of the classes and algorithms of the library. The API Reference itself is very rich in examples and explanatations, and this should be the primary source of information as to how to use the library. If you are a seasoned developer, you might consider jumping into the API Reference directly.\n",
    "* **Gallery** - This is a collection of examples that involve some kind of visualization. The code is ususally provided as one big block of execution, with ocassional internal notes. If all this is new to you, we suggest to go through the User Guide or the API Reference first."
   ]
  },
  {
   "cell_type": "markdown",
   "metadata": {},
   "source": [
    "## Prerequisities\n",
    "\n",
    "In order to use the library effectively, you should be familiar with\n",
    "* Python - any level for usage, advanced for contribution\n",
    "* NumPy, SciPy - intermediate level familiarity is required\n",
    "* xarray - basic level of familiaarity required\n",
    "\n",
    "It is not crucial, but it`s better to have a basic unserstanding of\n",
    "* Numba - Numba is critical for the performance of the library as it does most of the heavy lifting, alongside NumPy and SciPy of course. In most cases it uses JIT-compilation to speed stuff up and it helps to understand how this all works. This is crucial if you consider to contribute to any of the libraries in the sigmaepsilon namespace.\n",
    "\n",
    "Not crucial at all, but recommended to have\n",
    "* Matplotlib - Most of the examples and the user guide is full of plots, most of them using matplotlib. The plots are high quality, publication ready illustrations. It might be useful to learn how to use it if you have no prior experience. Also, by using the poltting facility, you can give some feedback if you feel something is missing, becoming a contributor yourself."
   ]
  },
  {
   "cell_type": "markdown",
   "metadata": {},
   "source": [
    "## How to install sigmaepsilon.solid.material?\n",
    "\n",
    "You can install the library from PyPI using pip:\n",
    "\n",
    "```console\n",
    "pip install sigmaepsilon.solid.material\n",
    "```"
   ]
  }
 ],
 "metadata": {
  "language_info": {
   "name": "python"
  }
 },
 "nbformat": 4,
 "nbformat_minor": 2
}
