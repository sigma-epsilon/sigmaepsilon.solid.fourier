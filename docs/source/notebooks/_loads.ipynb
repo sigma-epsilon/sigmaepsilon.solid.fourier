{
 "cells": [
  {
   "cell_type": "code",
   "execution_count": 1,
   "metadata": {},
   "outputs": [
    {
     "name": "stderr",
     "output_type": "stream",
     "text": [
      "f:\\GitHub\\SigmaEpsilon\\sigmaepsilon.solid.fourier\\.solid.fourier\\lib\\site-packages\\numba\\cuda\\dispatcher.py:536: NumbaPerformanceWarning: \u001b[1mGrid size 1 will likely result in GPU under-utilization due to low occupancy.\u001b[0m\n",
      "  warn(NumbaPerformanceWarning(msg))\n"
     ]
    }
   ],
   "source": [
    "from numpy import ascontiguousarray as ascont\n",
    "import numpy as np\n",
    "from sigmaepsilon.mesh.grid import grid\n",
    "from sigmaepsilon.mesh import triangulate\n",
    "from sigmaepsilon.mesh.utils.topology.tr import Q4_to_T3\n",
    "\n",
    "from sigmaepsilon.solid.material import MindlinPlateSection as Section\n",
    "from sigmaepsilon.math.linalg import ReferenceFrame\n",
    "from sigmaepsilon.solid.material import (\n",
    "    ElasticityTensor,\n",
    "    LinearElasticMaterial,\n",
    "    HuberMisesHenckyFailureCriterion_SP,\n",
    ")\n",
    "from sigmaepsilon.solid.material.utils import elastic_stiffness_matrix\n",
    "\n",
    "from sigmaepsilon.solid.fourier import (\n",
    "    RectangularPlate,\n",
    "    LoadGroup,\n",
    "    PointLoad,\n",
    "    RectangleLoad,\n",
    ")\n",
    "\n",
    "size = Lx, Ly = (600.0, 800.0)\n",
    "E = 2890.0\n",
    "nu = 0.2\n",
    "t = 25.0\n",
    "yield_strength = 25.0\n",
    "grid_shape = (50, 50)\n",
    "num_group = 4\n",
    "max_num_cases_per_group = 2\n",
    "\n",
    "hooke = elastic_stiffness_matrix(E=E, NU=nu)\n",
    "frame = ReferenceFrame(dim=3)\n",
    "stiffness = ElasticityTensor(hooke, frame=frame, tensorial=False)\n",
    "\n",
    "failure_model = HuberMisesHenckyFailureCriterion_SP(yield_strength=yield_strength)\n",
    "\n",
    "material = LinearElasticMaterial(stiffness=stiffness, failure_model=failure_model)\n",
    "\n",
    "section = Section(\n",
    "    layers=[\n",
    "        Section.Layer(material=material, thickness=t),\n",
    "    ]\n",
    ")\n",
    "ABDS = section.elastic_stiffness_matrix()\n",
    "D, S = ascont(ABDS[:3, :3]), ascont(ABDS[3:, 3:])\n"
   ]
  },
  {
   "cell_type": "code",
   "execution_count": 2,
   "metadata": {},
   "outputs": [
    {
     "name": "stdout",
     "output_type": "stream",
     "text": [
      "Added 7 cases in 4 groups.\n"
     ]
    }
   ],
   "source": [
    "load_groups = dict()\n",
    "case_counter, group_counter = 0, 0\n",
    "for i in range(num_group):\n",
    "    group_counter += 1\n",
    "    load_cases = dict()\n",
    "    number_of_cases = np.random.choice(np.arange(max_num_cases_per_group)+1)\n",
    "    for j in range(number_of_cases):\n",
    "        case_counter += 1\n",
    "        if np.random.rand() > 0.5:\n",
    "            xA, yA = np.random.rand() * Lx / 2, np.random.rand() * Ly / 2\n",
    "            xB, yB = xA + np.random.rand() * Lx / 2, yA + np.random.rand() * Ly / 2\n",
    "            v = np.random.rand(3)\n",
    "            load_case = RectangleLoad(x=[[xA, yA], [xB, yB]], v=v)\n",
    "        else:\n",
    "            load_case = PointLoad(x=[Lx / 3, Ly / 2], v=[-100.0, 0, 0])\n",
    "        load_cases[f\"Case {case_counter}\"] = load_case\n",
    "    load_groups[f\"Group {group_counter}\"] = LoadGroup(**load_cases)\n",
    "\n",
    "loads = LoadGroup(**load_groups)\n",
    "loads.lock()\n",
    "\n",
    "print(f\"Added {case_counter} cases in {group_counter} groups.\")"
   ]
  },
  {
   "cell_type": "code",
   "execution_count": 3,
   "metadata": {},
   "outputs": [
    {
     "name": "stdout",
     "output_type": "stream",
     "text": [
      "LoadGroup\n",
      " +-- Group 1\n",
      " |   +-- Case 1\n",
      " |   +-- Case 2\n",
      " +-- Group 2\n",
      " |   +-- Case 3\n",
      " |   +-- Case 4\n",
      " +-- Group 3\n",
      " |   +-- Case 5\n",
      " +-- Group 4\n",
      "     +-- Case 6\n",
      "     +-- Case 7\n"
     ]
    }
   ],
   "source": [
    "from sigmaepsilon.deepdict import asciiprint\n",
    "asciiprint(loads)"
   ]
  },
  {
   "cell_type": "code",
   "execution_count": 4,
   "metadata": {},
   "outputs": [],
   "source": [
    "coords, triangles = Q4_to_T3(*grid(size=size, shape=grid_shape, eshape=\"Q4\"))\n",
    "triobj = triangulate(points=coords[:, :2], triangles=triangles)[-1]\n",
    "plate = RectangularPlate(size, (20, 20), D=D, S=S)\n",
    "loads.problem = plate"
   ]
  },
  {
   "cell_type": "code",
   "execution_count": 5,
   "metadata": {},
   "outputs": [
    {
     "data": {
      "text/plain": [
       "LoadGroup({'Case 1': RectangleLoad({'x': [[74.5200012059929, 296.07536044436847], [266.10518856328724, 340.06035226169786]], 'v': array([0.47065099, 0.74893057, 0.34140234])}), 'Case 2': PointLoad({'x': [200.0, 400.0], 'v': [-100.0, 0, 0]})})"
      ]
     },
     "execution_count": 5,
     "metadata": {},
     "output_type": "execute_result"
    }
   ],
   "source": [
    "# the first load group\n",
    "next(loads.values())"
   ]
  },
  {
   "cell_type": "code",
   "execution_count": 6,
   "metadata": {},
   "outputs": [
    {
     "data": {
      "text/plain": [
       "[LoadGroup({'Case 1': RectangleLoad({'x': [[74.5200012059929, 296.07536044436847], [266.10518856328724, 340.06035226169786]], 'v': array([0.47065099, 0.74893057, 0.34140234])}), 'Case 2': PointLoad({'x': [200.0, 400.0], 'v': [-100.0, 0, 0]})}),\n",
       " RectangleLoad({'x': [[74.5200012059929, 296.07536044436847], [266.10518856328724, 340.06035226169786]], 'v': array([0.47065099, 0.74893057, 0.34140234])}),\n",
       " PointLoad({'x': [200.0, 400.0], 'v': [-100.0, 0, 0]}),\n",
       " LoadGroup({'Case 3': PointLoad({'x': [200.0, 400.0], 'v': [-100.0, 0, 0]}), 'Case 4': PointLoad({'x': [200.0, 400.0], 'v': [-100.0, 0, 0]})}),\n",
       " PointLoad({'x': [200.0, 400.0], 'v': [-100.0, 0, 0]}),\n",
       " PointLoad({'x': [200.0, 400.0], 'v': [-100.0, 0, 0]}),\n",
       " LoadGroup({'Case 5': PointLoad({'x': [200.0, 400.0], 'v': [-100.0, 0, 0]})}),\n",
       " PointLoad({'x': [200.0, 400.0], 'v': [-100.0, 0, 0]}),\n",
       " LoadGroup({'Case 6': PointLoad({'x': [200.0, 400.0], 'v': [-100.0, 0, 0]}), 'Case 7': RectangleLoad({'x': [[54.46028356011902, 251.69261451894238], [87.87451045819353, 461.32183121715786]], 'v': array([0.7696822 , 0.32702655, 0.01186509])})}),\n",
       " PointLoad({'x': [200.0, 400.0], 'v': [-100.0, 0, 0]}),\n",
       " RectangleLoad({'x': [[54.46028356011902, 251.69261451894238], [87.87451045819353, 461.32183121715786]], 'v': array([0.7696822 , 0.32702655, 0.01186509])})]"
      ]
     },
     "execution_count": 6,
     "metadata": {},
     "output_type": "execute_result"
    }
   ],
   "source": [
    "[b for b in loads.blocks()]"
   ]
  },
  {
   "cell_type": "code",
   "execution_count": 7,
   "metadata": {},
   "outputs": [
    {
     "data": {
      "text/plain": [
       "[LoadGroup({'Group 1': LoadGroup({'Case 1': RectangleLoad({'x': [[74.5200012059929, 296.07536044436847], [266.10518856328724, 340.06035226169786]], 'v': array([0.47065099, 0.74893057, 0.34140234])}), 'Case 2': PointLoad({'x': [200.0, 400.0], 'v': [-100.0, 0, 0]})}), 'Group 2': LoadGroup({'Case 3': PointLoad({'x': [200.0, 400.0], 'v': [-100.0, 0, 0]}), 'Case 4': PointLoad({'x': [200.0, 400.0], 'v': [-100.0, 0, 0]})}), 'Group 3': LoadGroup({'Case 5': PointLoad({'x': [200.0, 400.0], 'v': [-100.0, 0, 0]})}), 'Group 4': LoadGroup({'Case 6': PointLoad({'x': [200.0, 400.0], 'v': [-100.0, 0, 0]}), 'Case 7': RectangleLoad({'x': [[54.46028356011902, 251.69261451894238], [87.87451045819353, 461.32183121715786]], 'v': array([0.7696822 , 0.32702655, 0.01186509])})})}),\n",
       " LoadGroup({'Case 1': RectangleLoad({'x': [[74.5200012059929, 296.07536044436847], [266.10518856328724, 340.06035226169786]], 'v': array([0.47065099, 0.74893057, 0.34140234])}), 'Case 2': PointLoad({'x': [200.0, 400.0], 'v': [-100.0, 0, 0]})}),\n",
       " RectangleLoad({'x': [[74.5200012059929, 296.07536044436847], [266.10518856328724, 340.06035226169786]], 'v': array([0.47065099, 0.74893057, 0.34140234])}),\n",
       " PointLoad({'x': [200.0, 400.0], 'v': [-100.0, 0, 0]}),\n",
       " LoadGroup({'Case 3': PointLoad({'x': [200.0, 400.0], 'v': [-100.0, 0, 0]}), 'Case 4': PointLoad({'x': [200.0, 400.0], 'v': [-100.0, 0, 0]})}),\n",
       " PointLoad({'x': [200.0, 400.0], 'v': [-100.0, 0, 0]}),\n",
       " PointLoad({'x': [200.0, 400.0], 'v': [-100.0, 0, 0]}),\n",
       " LoadGroup({'Case 5': PointLoad({'x': [200.0, 400.0], 'v': [-100.0, 0, 0]})}),\n",
       " PointLoad({'x': [200.0, 400.0], 'v': [-100.0, 0, 0]}),\n",
       " LoadGroup({'Case 6': PointLoad({'x': [200.0, 400.0], 'v': [-100.0, 0, 0]}), 'Case 7': RectangleLoad({'x': [[54.46028356011902, 251.69261451894238], [87.87451045819353, 461.32183121715786]], 'v': array([0.7696822 , 0.32702655, 0.01186509])})}),\n",
       " PointLoad({'x': [200.0, 400.0], 'v': [-100.0, 0, 0]}),\n",
       " RectangleLoad({'x': [[54.46028356011902, 251.69261451894238], [87.87451045819353, 461.32183121715786]], 'v': array([0.7696822 , 0.32702655, 0.01186509])})]"
      ]
     },
     "execution_count": 7,
     "metadata": {},
     "output_type": "execute_result"
    }
   ],
   "source": [
    "[b for b in loads.blocks(inclusive=True, deep=True)]"
   ]
  },
  {
   "cell_type": "code",
   "execution_count": 8,
   "metadata": {},
   "outputs": [
    {
     "data": {
      "text/plain": [
       "[RectangleLoad({'x': [[74.5200012059929, 296.07536044436847], [266.10518856328724, 340.06035226169786]], 'v': array([0.47065099, 0.74893057, 0.34140234])}),\n",
       " PointLoad({'x': [200.0, 400.0], 'v': [-100.0, 0, 0]}),\n",
       " PointLoad({'x': [200.0, 400.0], 'v': [-100.0, 0, 0]}),\n",
       " PointLoad({'x': [200.0, 400.0], 'v': [-100.0, 0, 0]}),\n",
       " PointLoad({'x': [200.0, 400.0], 'v': [-100.0, 0, 0]}),\n",
       " PointLoad({'x': [200.0, 400.0], 'v': [-100.0, 0, 0]}),\n",
       " RectangleLoad({'x': [[54.46028356011902, 251.69261451894238], [87.87451045819353, 461.32183121715786]], 'v': array([0.7696822 , 0.32702655, 0.01186509])})]"
      ]
     },
     "execution_count": 8,
     "metadata": {},
     "output_type": "execute_result"
    }
   ],
   "source": [
    "[b for b in loads.cases(inclusive=True, deep=True)]"
   ]
  },
  {
   "cell_type": "code",
   "execution_count": 9,
   "metadata": {},
   "outputs": [
    {
     "data": {
      "text/plain": [
       "[['Group 1', 'Case 1'],\n",
       " ['Group 1', 'Case 2'],\n",
       " ['Group 2', 'Case 3'],\n",
       " ['Group 2', 'Case 4'],\n",
       " ['Group 3', 'Case 5'],\n",
       " ['Group 4', 'Case 6'],\n",
       " ['Group 4', 'Case 7']]"
      ]
     },
     "execution_count": 9,
     "metadata": {},
     "output_type": "execute_result"
    }
   ],
   "source": [
    "[b.address for b in loads.cases()]"
   ]
  },
  {
   "cell_type": "code",
   "execution_count": 10,
   "metadata": {},
   "outputs": [
    {
     "data": {
      "text/plain": [
       "[LoadGroup({'Case 1': RectangleLoad({'x': [[74.5200012059929, 296.07536044436847], [266.10518856328724, 340.06035226169786]], 'v': array([0.47065099, 0.74893057, 0.34140234])}), 'Case 2': PointLoad({'x': [200.0, 400.0], 'v': [-100.0, 0, 0]})}),\n",
       " LoadGroup({'Case 1': RectangleLoad({'x': [[74.5200012059929, 296.07536044436847], [266.10518856328724, 340.06035226169786]], 'v': array([0.47065099, 0.74893057, 0.34140234])}), 'Case 2': PointLoad({'x': [200.0, 400.0], 'v': [-100.0, 0, 0]})}),\n",
       " LoadGroup({'Case 3': PointLoad({'x': [200.0, 400.0], 'v': [-100.0, 0, 0]}), 'Case 4': PointLoad({'x': [200.0, 400.0], 'v': [-100.0, 0, 0]})}),\n",
       " LoadGroup({'Case 3': PointLoad({'x': [200.0, 400.0], 'v': [-100.0, 0, 0]}), 'Case 4': PointLoad({'x': [200.0, 400.0], 'v': [-100.0, 0, 0]})}),\n",
       " LoadGroup({'Case 5': PointLoad({'x': [200.0, 400.0], 'v': [-100.0, 0, 0]})}),\n",
       " LoadGroup({'Case 6': PointLoad({'x': [200.0, 400.0], 'v': [-100.0, 0, 0]}), 'Case 7': RectangleLoad({'x': [[54.46028356011902, 251.69261451894238], [87.87451045819353, 461.32183121715786]], 'v': array([0.7696822 , 0.32702655, 0.01186509])})}),\n",
       " LoadGroup({'Case 6': PointLoad({'x': [200.0, 400.0], 'v': [-100.0, 0, 0]}), 'Case 7': RectangleLoad({'x': [[54.46028356011902, 251.69261451894238], [87.87451045819353, 461.32183121715786]], 'v': array([0.7696822 , 0.32702655, 0.01186509])})})]"
      ]
     },
     "execution_count": 10,
     "metadata": {},
     "output_type": "execute_result"
    }
   ],
   "source": [
    "[b.parent for b in loads.cases()]"
   ]
  },
  {
   "cell_type": "code",
   "execution_count": 11,
   "metadata": {},
   "outputs": [
    {
     "data": {
      "text/plain": [
       "(11, 12)"
      ]
     },
     "execution_count": 11,
     "metadata": {},
     "output_type": "execute_result"
    }
   ],
   "source": [
    "len([id(b) for b in loads.blocks()]), len([id(b) for b in loads.blocks(inclusive=True)])"
   ]
  },
  {
   "cell_type": "code",
   "execution_count": 13,
   "metadata": {},
   "outputs": [
    {
     "data": {
      "text/plain": [
       "[False, False, False, False, False, False, False, False, False, False, False]"
      ]
     },
     "execution_count": 13,
     "metadata": {},
     "output_type": "execute_result"
    }
   ],
   "source": [
    "[b.cooperative for b in loads.blocks()]"
   ]
  },
  {
   "cell_type": "code",
   "execution_count": 14,
   "metadata": {},
   "outputs": [
    {
     "data": {
      "text/plain": [
       "([False, False, False, False, False, False, False, False, False, False, False],\n",
       " [True,\n",
       "  False,\n",
       "  False,\n",
       "  False,\n",
       "  False,\n",
       "  False,\n",
       "  False,\n",
       "  False,\n",
       "  False,\n",
       "  False,\n",
       "  False,\n",
       "  False])"
      ]
     },
     "execution_count": 14,
     "metadata": {},
     "output_type": "execute_result"
    }
   ],
   "source": [
    "[id(b) == id(loads) for b in loads.blocks()], [id(b) == id(loads) for b in loads.blocks(inclusive=True)]"
   ]
  },
  {
   "cell_type": "code",
   "execution_count": 15,
   "metadata": {},
   "outputs": [
    {
     "data": {
      "text/plain": [
       "[True, True, True, True, True, True, True]"
      ]
     },
     "execution_count": 15,
     "metadata": {},
     "output_type": "execute_result"
    }
   ],
   "source": [
    "[b.root is loads for b in loads.cases()]"
   ]
  },
  {
   "cell_type": "code",
   "execution_count": 16,
   "metadata": {},
   "outputs": [
    {
     "data": {
      "text/plain": [
       "[RectangleLoad({'x': [[74.5200012059929, 296.07536044436847], [266.10518856328724, 340.06035226169786]], 'v': array([0.47065099, 0.74893057, 0.34140234])}),\n",
       " PointLoad({'x': [200.0, 400.0], 'v': [-100.0, 0, 0]})]"
      ]
     },
     "execution_count": 16,
     "metadata": {},
     "output_type": "execute_result"
    }
   ],
   "source": [
    "list(next(loads.values()).cases())"
   ]
  },
  {
   "cell_type": "code",
   "execution_count": 17,
   "metadata": {},
   "outputs": [
    {
     "data": {
      "text/plain": [
       "DeepDict({'Group 4': DeepDict({'Case 6': <xarray.DataArray (index: 2601, component: 13)>\n",
       "array([[ 0.00000000e+00,  0.00000000e+00,  0.00000000e+00, ...,\n",
       "         5.73378793e+00,  0.00000000e+00,  0.00000000e+00],\n",
       "       [ 0.00000000e+00,  0.00000000e+00,  2.92718544e-05, ...,\n",
       "         5.74318360e+00, -1.57405187e-03,  0.00000000e+00],\n",
       "       [ 0.00000000e+00,  0.00000000e+00,  5.86274429e-05, ...,\n",
       "         5.76459170e+00, -6.05283758e-03,  0.00000000e+00],\n",
       "       ...,\n",
       "       [-1.06881824e-18,  3.28250950e-20, -4.53411135e-05, ...,\n",
       "         4.42947531e+00,  4.86755853e-03, -3.17926811e-18],\n",
       "       [-5.39867370e-19,  3.32303273e-20, -2.26983303e-05, ...,\n",
       "         4.44481307e+00,  2.91029636e-03,  5.65776592e-18],\n",
       "       [-1.69081636e-33,  3.34535852e-20, -4.51823503e-20, ...,\n",
       "         4.45062757e+00,  3.99692122e-17,  1.10979567e-17]])\n",
       "Coordinates:\n",
       "  * index      (index) int32 0 1 2 3 4 5 6 ... 2595 2596 2597 2598 2599 2600\n",
       "  * component  (component) <U4 'UZ' 'ROTX' 'ROTY' 'CX' ... 'MY' 'MXY' 'QX' 'QY', 'Case 7': <xarray.DataArray (index: 2601, component: 13)>\n",
       "array([[ 0.00000000e+00,  0.00000000e+00,  0.00000000e+00, ...,\n",
       "        -1.85979879e+02,  0.00000000e+00,  0.00000000e+00],\n",
       "       [ 0.00000000e+00,  0.00000000e+00, -9.49503815e-04, ...,\n",
       "        -1.86428352e+02,  1.69906405e-01,  0.00000000e+00],\n",
       "       [ 0.00000000e+00,  0.00000000e+00, -1.90372127e-03, ...,\n",
       "        -1.87838542e+02,  3.58481394e-01,  0.00000000e+00],\n",
       "       ...,\n",
       "       [ 1.96519232e-17, -6.11382291e-19,  8.37057808e-04, ...,\n",
       "        -8.18150407e+01, -7.08626680e-02, -5.36588135e-18],\n",
       "       [ 9.84279601e-18, -6.13559258e-19,  4.18926941e-04, ...,\n",
       "        -8.20535705e+01, -3.36772976e-02, -2.09640468e-17],\n",
       "       [ 1.98478244e-32, -6.14371649e-19,  8.15407334e-19, ...,\n",
       "        -8.21298368e+01,  7.33886478e-17, -3.03087625e-17]])\n",
       "Coordinates:\n",
       "  * index      (index) int32 0 1 2 3 4 5 6 ... 2595 2596 2597 2598 2599 2600\n",
       "  * component  (component) <U4 'UZ' 'ROTX' 'ROTY' 'CX' ... 'MY' 'MXY' 'QX' 'QY'})})"
      ]
     },
     "execution_count": 17,
     "metadata": {},
     "output_type": "execute_result"
    }
   ],
   "source": [
    "import contextlib\n",
    "\n",
    "load_groups = loads.values()\n",
    "\n",
    "with contextlib.suppress(StopIteration):\n",
    "    while True:\n",
    "        results = plate.solve(next(load_groups), coords)\n",
    "results"
   ]
  },
  {
   "cell_type": "code",
   "execution_count": 18,
   "metadata": {},
   "outputs": [
    {
     "data": {
      "text/plain": [
       "DeepDict({'Group 4': DeepDict({'Case 6': <xarray.DataArray (index: 2601, component: 13)>\n",
       "array([[ 0.00000000e+00,  0.00000000e+00,  0.00000000e+00, ...,\n",
       "         5.73378793e+00,  0.00000000e+00,  0.00000000e+00],\n",
       "       [ 0.00000000e+00,  0.00000000e+00,  2.92718544e-05, ...,\n",
       "         5.74318360e+00, -1.57405187e-03,  0.00000000e+00],\n",
       "       [ 0.00000000e+00,  0.00000000e+00,  5.86274429e-05, ...,\n",
       "         5.76459170e+00, -6.05283758e-03,  0.00000000e+00],\n",
       "       ...,\n",
       "       [-1.06881824e-18,  3.28250950e-20, -4.53411135e-05, ...,\n",
       "         4.42947531e+00,  4.86755853e-03, -3.17926811e-18],\n",
       "       [-5.39867370e-19,  3.32303273e-20, -2.26983303e-05, ...,\n",
       "         4.44481307e+00,  2.91029636e-03,  5.65776592e-18],\n",
       "       [-1.69081636e-33,  3.34535852e-20, -4.51823503e-20, ...,\n",
       "         4.45062757e+00,  3.99692122e-17,  1.10979567e-17]])\n",
       "Coordinates:\n",
       "  * index      (index) int32 0 1 2 3 4 5 6 ... 2595 2596 2597 2598 2599 2600\n",
       "  * component  (component) <U4 'UZ' 'ROTX' 'ROTY' 'CX' ... 'MY' 'MXY' 'QX' 'QY', 'Case 7': <xarray.DataArray (index: 2601, component: 13)>\n",
       "array([[ 0.00000000e+00,  0.00000000e+00,  0.00000000e+00, ...,\n",
       "        -1.85979879e+02,  0.00000000e+00,  0.00000000e+00],\n",
       "       [ 0.00000000e+00,  0.00000000e+00, -9.49503815e-04, ...,\n",
       "        -1.86428352e+02,  1.69906405e-01,  0.00000000e+00],\n",
       "       [ 0.00000000e+00,  0.00000000e+00, -1.90372127e-03, ...,\n",
       "        -1.87838542e+02,  3.58481394e-01,  0.00000000e+00],\n",
       "       ...,\n",
       "       [ 1.96519232e-17, -6.11382291e-19,  8.37057808e-04, ...,\n",
       "        -8.18150407e+01, -7.08626680e-02, -5.36588135e-18],\n",
       "       [ 9.84279601e-18, -6.13559258e-19,  4.18926941e-04, ...,\n",
       "        -8.20535705e+01, -3.36772976e-02, -2.09640468e-17],\n",
       "       [ 1.98478244e-32, -6.14371649e-19,  8.15407334e-19, ...,\n",
       "        -8.21298368e+01,  7.33886478e-17, -3.03087625e-17]])\n",
       "Coordinates:\n",
       "  * index      (index) int32 0 1 2 3 4 5 6 ... 2595 2596 2597 2598 2599 2600\n",
       "  * component  (component) <U4 'UZ' 'ROTX' 'ROTY' 'CX' ... 'MY' 'MXY' 'QX' 'QY'})})"
      ]
     },
     "execution_count": 18,
     "metadata": {},
     "output_type": "execute_result"
    }
   ],
   "source": [
    "import dask\n",
    "\n",
    "#del results\n",
    "\n",
    "def task(group):\n",
    "    return plate.solve(group, coords)\n",
    "\n",
    "tasks = [dask.delayed(task)(group) for group in loads.values()]\n",
    "results = dask.compute(*tasks)\n",
    "\n",
    "results[-1]"
   ]
  }
 ],
 "metadata": {
  "kernelspec": {
   "display_name": ".solid.fourier",
   "language": "python",
   "name": "python3"
  },
  "language_info": {
   "codemirror_mode": {
    "name": "ipython",
    "version": 3
   },
   "file_extension": ".py",
   "mimetype": "text/x-python",
   "name": "python",
   "nbconvert_exporter": "python",
   "pygments_lexer": "ipython3",
   "version": "3.8.10"
  }
 },
 "nbformat": 4,
 "nbformat_minor": 2
}
