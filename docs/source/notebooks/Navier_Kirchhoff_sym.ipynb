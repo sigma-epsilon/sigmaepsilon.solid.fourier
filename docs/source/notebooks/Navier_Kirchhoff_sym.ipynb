{
 "cells": [
  {
   "attachments": {},
   "cell_type": "markdown",
   "metadata": {},
   "source": [
    "# Navier's Solution to Simply-Supported Kirchhoff-Love Plates\n"
   ]
  },
  {
   "cell_type": "markdown",
   "metadata": {},
   "source": [
    "The notebook goes through the steps of symbolicly getting the expressions that are turned to code in the library. The steps lack explanation at the moment, later I'll come back to it (the author)."
   ]
  },
  {
   "cell_type": "code",
   "execution_count": 78,
   "metadata": {},
   "outputs": [],
   "source": [
    "from sympy import symbols, Function, diff, Matrix, integrate, sin, cos, pi, simplify"
   ]
  },
  {
   "attachments": {},
   "cell_type": "markdown",
   "metadata": {},
   "source": [
    "## Displacement Field\n"
   ]
  },
  {
   "cell_type": "code",
   "execution_count": 79,
   "metadata": {},
   "outputs": [
    {
     "data": {
      "text/latex": [
       "$\\displaystyle \\left[\\begin{matrix}z \\theta_{y}{\\left(x,y \\right)}\\\\- z \\theta_{x}{\\left(x,y \\right)}\\\\w_{0}{\\left(x,y \\right)}\\end{matrix}\\right]$"
      ],
      "text/plain": [
       "Matrix([\n",
       "[ z*\\theta_y(x, y)],\n",
       "[-z*\\theta_x(x, y)],\n",
       "[        w_0(x, y)]])"
      ]
     },
     "execution_count": 79,
     "metadata": {},
     "output_type": "execute_result"
    }
   ],
   "source": [
    "# coordinates in a suitable vector space\n",
    "x, y, z = symbols(\"x y z\", real=True)\n",
    "\n",
    "# kinematic variables\n",
    "w0 = Function(\"w_0\")(x, y)\n",
    "thx = Function(\"\\\\theta_x\")(x, y)\n",
    "thy = Function(\"\\\\theta_y\")(x, y)\n",
    "\n",
    "u = z * thy\n",
    "v = -z * thx\n",
    "w = w0\n",
    "disps = [u, v, w]\n",
    "Matrix(disps)"
   ]
  },
  {
   "attachments": {},
   "cell_type": "markdown",
   "metadata": {},
   "source": [
    "## Boundary Conditions and Trial Solution\n"
   ]
  },
  {
   "cell_type": "code",
   "execution_count": 80,
   "metadata": {},
   "outputs": [],
   "source": [
    "mn = m, n = symbols(\"m n\", integer=True, positive=True)\n",
    "coeff = Amn = symbols(\"A_{mn}\", real=True)\n",
    "shape = Lx, Ly = symbols(\"L_x, L_y\", real=True)\n",
    "Sm, Sn = sin(m * pi * x / Lx), sin(n * pi * y / Ly)\n",
    "Cm, Cn = cos(m * pi * x / Lx), cos(n * pi * y / Ly)"
   ]
  },
  {
   "cell_type": "code",
   "execution_count": 81,
   "metadata": {},
   "outputs": [
    {
     "data": {
      "text/latex": [
       "$\\displaystyle \\left[\\begin{matrix}A_{mn} \\sin{\\left(\\frac{\\pi m x}{L_{x}} \\right)} \\sin{\\left(\\frac{\\pi n y}{L_{y}} \\right)}\\\\\\frac{\\pi A_{mn} n \\sin{\\left(\\frac{\\pi m x}{L_{x}} \\right)} \\cos{\\left(\\frac{\\pi n y}{L_{y}} \\right)}}{L_{y}}\\\\- \\frac{\\pi A_{mn} m \\sin{\\left(\\frac{\\pi n y}{L_{y}} \\right)} \\cos{\\left(\\frac{\\pi m x}{L_{x}} \\right)}}{L_{x}}\\end{matrix}\\right]$"
      ],
      "text/plain": [
       "Matrix([\n",
       "[          A_{mn}*sin(pi*m*x/L_x)*sin(pi*n*y/L_y)],\n",
       "[ pi*A_{mn}*n*sin(pi*m*x/L_x)*cos(pi*n*y/L_y)/L_y],\n",
       "[-pi*A_{mn}*m*sin(pi*n*y/L_y)*cos(pi*m*x/L_x)/L_x]])"
      ]
     },
     "execution_count": 81,
     "metadata": {},
     "output_type": "execute_result"
    }
   ],
   "source": [
    "w0_trial = Amn * Sm * Sn\n",
    "thx_trial = diff(w0_trial, y)\n",
    "thy_trial = -diff(w0_trial, x)\n",
    "trial = {w0: w0_trial, thx: thx_trial, thy: thy_trial}\n",
    "disps_trial = [s.subs(trial).expand().doit() for s in [w0_trial, thx_trial, thy_trial]]\n",
    "Matrix(disps_trial)"
   ]
  },
  {
   "cell_type": "code",
   "execution_count": 82,
   "metadata": {},
   "outputs": [
    {
     "data": {
      "text/latex": [
       "$\\displaystyle \\left[\\begin{matrix}p_{mn} \\sin{\\left(\\frac{\\pi m x}{L_{x}} \\right)} \\sin{\\left(\\frac{\\pi n y}{L_{y}} \\right)}\\\\q_{mn} \\sin{\\left(\\frac{\\pi m x}{L_{x}} \\right)} \\cos{\\left(\\frac{\\pi n y}{L_{y}} \\right)}\\\\r_{mn} \\sin{\\left(\\frac{\\pi n y}{L_{y}} \\right)} \\cos{\\left(\\frac{\\pi m x}{L_{x}} \\right)}\\end{matrix}\\right]$"
      ],
      "text/plain": [
       "Matrix([\n",
       "[p_{mn}*sin(pi*m*x/L_x)*sin(pi*n*y/L_y)],\n",
       "[q_{mn}*sin(pi*m*x/L_x)*cos(pi*n*y/L_y)],\n",
       "[r_{mn}*sin(pi*n*y/L_y)*cos(pi*m*x/L_x)]])"
      ]
     },
     "execution_count": 82,
     "metadata": {},
     "output_type": "execute_result"
    }
   ],
   "source": [
    "coeff_load = pmn, qmn, rmn = symbols(\"p_{mn} q_{mn} r_{mn}\", real=True)\n",
    "pz_trial = pmn * Sm * Sn\n",
    "pxx_trial = qmn * Sm * Cn\n",
    "pyy_trial = rmn * Cm * Sn\n",
    "Matrix([pz_trial, pxx_trial, pyy_trial])"
   ]
  },
  {
   "attachments": {},
   "cell_type": "markdown",
   "metadata": {},
   "source": [
    "## Strain - Displacement Equations\n"
   ]
  },
  {
   "cell_type": "code",
   "execution_count": 83,
   "metadata": {},
   "outputs": [
    {
     "data": {
      "text/latex": [
       "$\\displaystyle \\left[\\begin{matrix}z \\frac{\\partial}{\\partial x} \\theta_{y}{\\left(x,y \\right)}\\\\- z \\frac{\\partial}{\\partial y} \\theta_{x}{\\left(x,y \\right)}\\\\- z \\frac{\\partial}{\\partial x} \\theta_{x}{\\left(x,y \\right)} + z \\frac{\\partial}{\\partial y} \\theta_{y}{\\left(x,y \\right)}\\end{matrix}\\right]$"
      ],
      "text/plain": [
       "Matrix([\n",
       "[                                   z*Derivative(\\theta_y(x, y), x)],\n",
       "[                                  -z*Derivative(\\theta_x(x, y), y)],\n",
       "[-z*Derivative(\\theta_x(x, y), x) + z*Derivative(\\theta_y(x, y), y)]])"
      ]
     },
     "execution_count": 83,
     "metadata": {},
     "output_type": "execute_result"
    }
   ],
   "source": [
    "exx = diff(u, x)\n",
    "eyy = diff(v, y)\n",
    "exy = diff(u, y) + diff(v, x)\n",
    "strains = [exx, eyy, exy]\n",
    "Matrix(strains)"
   ]
  },
  {
   "cell_type": "code",
   "execution_count": 84,
   "metadata": {},
   "outputs": [
    {
     "data": {
      "text/latex": [
       "$\\displaystyle \\left[\\begin{matrix}\\frac{\\partial}{\\partial x} \\theta_{y}{\\left(x,y \\right)}\\\\- \\frac{\\partial}{\\partial y} \\theta_{x}{\\left(x,y \\right)}\\\\- \\frac{\\partial}{\\partial x} \\theta_{x}{\\left(x,y \\right)} + \\frac{\\partial}{\\partial y} \\theta_{y}{\\left(x,y \\right)}\\end{matrix}\\right]$"
      ],
      "text/plain": [
       "Matrix([\n",
       "[                                 Derivative(\\theta_y(x, y), x)],\n",
       "[                                -Derivative(\\theta_x(x, y), y)],\n",
       "[-Derivative(\\theta_x(x, y), x) + Derivative(\\theta_y(x, y), y)]])"
      ]
     },
     "execution_count": 84,
     "metadata": {},
     "output_type": "execute_result"
    }
   ],
   "source": [
    "kxx = diff(exx, z)\n",
    "kyy = diff(eyy, z)\n",
    "kxy = diff(exy, z)\n",
    "gen_strains = [kxx, kyy, kxy]\n",
    "Matrix(gen_strains)"
   ]
  },
  {
   "cell_type": "code",
   "execution_count": 85,
   "metadata": {},
   "outputs": [
    {
     "data": {
      "text/latex": [
       "$\\displaystyle \\left[\\begin{matrix}\\frac{\\pi^{2} A_{mn} m^{2} \\sin{\\left(\\frac{\\pi m x}{L_{x}} \\right)} \\sin{\\left(\\frac{\\pi n y}{L_{y}} \\right)}}{L_{x}^{2}}\\\\\\frac{\\pi^{2} A_{mn} n^{2} \\sin{\\left(\\frac{\\pi m x}{L_{x}} \\right)} \\sin{\\left(\\frac{\\pi n y}{L_{y}} \\right)}}{L_{y}^{2}}\\\\- \\frac{2 \\pi^{2} A_{mn} m n \\cos{\\left(\\frac{\\pi m x}{L_{x}} \\right)} \\cos{\\left(\\frac{\\pi n y}{L_{y}} \\right)}}{L_{x} L_{y}}\\end{matrix}\\right]$"
      ],
      "text/plain": [
       "Matrix([\n",
       "[     pi**2*A_{mn}*m**2*sin(pi*m*x/L_x)*sin(pi*n*y/L_y)/L_x**2],\n",
       "[     pi**2*A_{mn}*n**2*sin(pi*m*x/L_x)*sin(pi*n*y/L_y)/L_y**2],\n",
       "[-2*pi**2*A_{mn}*m*n*cos(pi*m*x/L_x)*cos(pi*n*y/L_y)/(L_x*L_y)]])"
      ]
     },
     "execution_count": 85,
     "metadata": {},
     "output_type": "execute_result"
    }
   ],
   "source": [
    "gen_strains_trial = [k.subs(trial).expand().doit() for k in gen_strains]\n",
    "Matrix(gen_strains_trial)"
   ]
  },
  {
   "attachments": {},
   "cell_type": "markdown",
   "metadata": {},
   "source": [
    "## Stress Resultants\n"
   ]
  },
  {
   "cell_type": "code",
   "execution_count": 86,
   "metadata": {},
   "outputs": [
    {
     "data": {
      "text/latex": [
       "$\\displaystyle \\left[\\begin{matrix}D_{11} \\frac{\\partial}{\\partial x} \\theta_{y}{\\left(x,y \\right)} - D_{12} \\frac{\\partial}{\\partial y} \\theta_{x}{\\left(x,y \\right)}\\\\D_{12} \\frac{\\partial}{\\partial x} \\theta_{y}{\\left(x,y \\right)} - D_{22} \\frac{\\partial}{\\partial y} \\theta_{x}{\\left(x,y \\right)}\\\\- D_{66} \\frac{\\partial}{\\partial x} \\theta_{x}{\\left(x,y \\right)} + D_{66} \\frac{\\partial}{\\partial y} \\theta_{y}{\\left(x,y \\right)}\\end{matrix}\\right]$"
      ],
      "text/plain": [
       "Matrix([\n",
       "[ D_11*Derivative(\\theta_y(x, y), x) - D_12*Derivative(\\theta_x(x, y), y)],\n",
       "[ D_12*Derivative(\\theta_y(x, y), x) - D_22*Derivative(\\theta_x(x, y), y)],\n",
       "[-D_66*Derivative(\\theta_x(x, y), x) + D_66*Derivative(\\theta_y(x, y), y)]])"
      ]
     },
     "execution_count": 86,
     "metadata": {},
     "output_type": "execute_result"
    }
   ],
   "source": [
    "D11, D22, D12, D66 = Dij = symbols(\"D_11 D_22 D_12 D_66\", real=True)\n",
    "#\n",
    "kx, ky, kxy = gen_strains\n",
    "#\n",
    "mx = D11 * kx + D12 * ky\n",
    "my = D12 * kx + D22 * ky\n",
    "mxy = D66 * kxy\n",
    "#\n",
    "mx = mx.simplify().expand()\n",
    "my = my.simplify().expand()\n",
    "mxy = mxy.simplify().expand()\n",
    "\n",
    "vx = diff(mx, x) + diff(mxy, y) + pyy_trial\n",
    "vy = diff(mxy, x) + diff(my, y) - pxx_trial\n",
    "\n",
    "gen_forces = [mx, my, mxy]\n",
    "Matrix(gen_forces)"
   ]
  },
  {
   "cell_type": "code",
   "execution_count": 87,
   "metadata": {},
   "outputs": [
    {
     "data": {
      "text/latex": [
       "$\\displaystyle \\left[\\begin{matrix}\\frac{\\pi^{2} A_{mn} D_{11} m^{2} \\sin{\\left(\\frac{\\pi m x}{L_{x}} \\right)} \\sin{\\left(\\frac{\\pi n y}{L_{y}} \\right)}}{L_{x}^{2}} + \\frac{\\pi^{2} A_{mn} D_{12} n^{2} \\sin{\\left(\\frac{\\pi m x}{L_{x}} \\right)} \\sin{\\left(\\frac{\\pi n y}{L_{y}} \\right)}}{L_{y}^{2}}\\\\\\frac{\\pi^{2} A_{mn} D_{12} m^{2} \\sin{\\left(\\frac{\\pi m x}{L_{x}} \\right)} \\sin{\\left(\\frac{\\pi n y}{L_{y}} \\right)}}{L_{x}^{2}} + \\frac{\\pi^{2} A_{mn} D_{22} n^{2} \\sin{\\left(\\frac{\\pi m x}{L_{x}} \\right)} \\sin{\\left(\\frac{\\pi n y}{L_{y}} \\right)}}{L_{y}^{2}}\\\\- \\frac{2 \\pi^{2} A_{mn} D_{66} m n \\cos{\\left(\\frac{\\pi m x}{L_{x}} \\right)} \\cos{\\left(\\frac{\\pi n y}{L_{y}} \\right)}}{L_{x} L_{y}}\\end{matrix}\\right]$"
      ],
      "text/plain": [
       "Matrix([\n",
       "[pi**2*A_{mn}*D_11*m**2*sin(pi*m*x/L_x)*sin(pi*n*y/L_y)/L_x**2 + pi**2*A_{mn}*D_12*n**2*sin(pi*m*x/L_x)*sin(pi*n*y/L_y)/L_y**2],\n",
       "[pi**2*A_{mn}*D_12*m**2*sin(pi*m*x/L_x)*sin(pi*n*y/L_y)/L_x**2 + pi**2*A_{mn}*D_22*n**2*sin(pi*m*x/L_x)*sin(pi*n*y/L_y)/L_y**2],\n",
       "[                                                           -2*pi**2*A_{mn}*D_66*m*n*cos(pi*m*x/L_x)*cos(pi*n*y/L_y)/(L_x*L_y)]])"
      ]
     },
     "execution_count": 87,
     "metadata": {},
     "output_type": "execute_result"
    }
   ],
   "source": [
    "gen_forces_trial = [k.subs(trial).expand().doit() for k in gen_forces]\n",
    "Matrix(gen_forces_trial)"
   ]
  },
  {
   "attachments": {},
   "cell_type": "markdown",
   "metadata": {},
   "source": [
    "## Equilibrium Equations\n"
   ]
  },
  {
   "attachments": {},
   "cell_type": "markdown",
   "metadata": {},
   "source": [
    "The signs of the equations\n",
    "is selected such, that the coefficients of the load functions on the\n",
    "right-hand sides admit positive signs according to global axes.\n"
   ]
  },
  {
   "cell_type": "code",
   "execution_count": 88,
   "metadata": {},
   "outputs": [
    {
     "data": {
      "text/latex": [
       "$\\displaystyle \\left[\\begin{matrix}\\frac{- D_{11} \\frac{\\partial^{3}}{\\partial x^{3}} \\theta_{y}{\\left(x,y \\right)} + D_{12} \\frac{\\partial^{3}}{\\partial y\\partial x^{2}} \\theta_{x}{\\left(x,y \\right)} - D_{12} \\frac{\\partial^{3}}{\\partial y^{2}\\partial x} \\theta_{y}{\\left(x,y \\right)} + D_{22} \\frac{\\partial^{3}}{\\partial y^{3}} \\theta_{x}{\\left(x,y \\right)} + 2 D_{66} \\frac{\\partial^{3}}{\\partial y\\partial x^{2}} \\theta_{x}{\\left(x,y \\right)} - 2 D_{66} \\frac{\\partial^{3}}{\\partial y^{2}\\partial x} \\theta_{y}{\\left(x,y \\right)}}{\\sin{\\left(\\frac{\\pi m x}{L_{x}} \\right)} \\sin{\\left(\\frac{\\pi n y}{L_{y}} \\right)}}\\end{matrix}\\right]$"
      ],
      "text/plain": [
       "Matrix([[(-D_11*Derivative(\\theta_y(x, y), (x, 3)) + D_12*Derivative(\\theta_x(x, y), (x, 2), y) - D_12*Derivative(\\theta_y(x, y), x, (y, 2)) + D_22*Derivative(\\theta_x(x, y), (y, 3)) + 2*D_66*Derivative(\\theta_x(x, y), (x, 2), y) - 2*D_66*Derivative(\\theta_y(x, y), x, (y, 2)))/(sin(pi*m*x/L_x)*sin(pi*n*y/L_y))]])"
      ]
     },
     "execution_count": 88,
     "metadata": {},
     "output_type": "execute_result"
    }
   ],
   "source": [
    "# vertical equilibrium\n",
    "lhs_fz = -simplify(diff(mx, x, 2) + diff(my, y, 2) + 2 * diff(mxy, x, y)).expand()\n",
    "lhs_fz = lhs_fz.expand().doit() / (Sn * Sm)\n",
    "lhs_fz = lhs_fz.expand().simplify()\n",
    "\n",
    "equations = [lhs_fz]\n",
    "Matrix(equations)"
   ]
  },
  {
   "cell_type": "code",
   "execution_count": 89,
   "metadata": {},
   "outputs": [
    {
     "data": {
      "text/latex": [
       "$\\displaystyle \\left[\\begin{matrix}\\frac{\\pi^{4} A_{mn} D_{11} m^{4}}{L_{x}^{4}} + \\frac{2 \\pi^{4} A_{mn} D_{12} m^{2} n^{2}}{L_{x}^{2} L_{y}^{2}} + \\frac{\\pi^{4} A_{mn} D_{22} n^{4}}{L_{y}^{4}} + \\frac{4 \\pi^{4} A_{mn} D_{66} m^{2} n^{2}}{L_{x}^{2} L_{y}^{2}}\\end{matrix}\\right]$"
      ],
      "text/plain": [
       "Matrix([[pi**4*A_{mn}*D_11*m**4/L_x**4 + 2*pi**4*A_{mn}*D_12*m**2*n**2/(L_x**2*L_y**2) + pi**4*A_{mn}*D_22*n**4/L_y**4 + 4*pi**4*A_{mn}*D_66*m**2*n**2/(L_x**2*L_y**2)]])"
      ]
     },
     "execution_count": 89,
     "metadata": {},
     "output_type": "execute_result"
    }
   ],
   "source": [
    "equations_trial = [k.subs(trial).expand().doit() for k in equations]\n",
    "Matrix(equations_trial)"
   ]
  },
  {
   "attachments": {},
   "cell_type": "markdown",
   "metadata": {},
   "source": [
    "## Loads\n"
   ]
  },
  {
   "attachments": {},
   "cell_type": "markdown",
   "metadata": {},
   "source": [
    "### Constant\n"
   ]
  },
  {
   "attachments": {},
   "cell_type": "markdown",
   "metadata": {},
   "source": [
    "#### Constans vertical load over a rectangular area\n"
   ]
  },
  {
   "cell_type": "code",
   "execution_count": 90,
   "metadata": {},
   "outputs": [
    {
     "data": {
      "text/latex": [
       "$\\displaystyle \\frac{16 q \\sin{\\left(\\frac{\\pi m w}{2 L_{x}} \\right)} \\sin{\\left(\\frac{\\pi m x_{c}}{L_{x}} \\right)} \\sin{\\left(\\frac{\\pi h n}{2 L_{y}} \\right)} \\sin{\\left(\\frac{\\pi n y_{c}}{L_{y}} \\right)}}{\\pi^{2} m n}$"
      ],
      "text/plain": [
       "16*q*sin(pi*m*w/(2*L_x))*sin(pi*m*x_c/L_x)*sin(pi*h*n/(2*L_y))*sin(pi*n*y_c/L_y)/(pi**2*m*n)"
      ]
     },
     "execution_count": 90,
     "metadata": {},
     "output_type": "execute_result"
    }
   ],
   "source": [
    "# constans vertical load over a rectangular area\n",
    "q, w, h = symbols(\"q w h\", real=True)\n",
    "xc, yc = symbols(\"x_c y_c\", real=True)\n",
    "qmn = (4 / (Lx * Ly)) * integrate(\n",
    "    q * Sm * Sn, (x, xc - w / 2, xc + w / 2), (y, yc - h / 2, yc + h / 2)\n",
    ")\n",
    "qmn_fz = qmn.simplify().expand()\n",
    "qmn_fz"
   ]
  },
  {
   "attachments": {},
   "cell_type": "markdown",
   "metadata": {},
   "source": [
    "#### Constans $m_x$ moment over a rectangular area\n"
   ]
  },
  {
   "cell_type": "code",
   "execution_count": 91,
   "metadata": {},
   "outputs": [
    {
     "data": {
      "text/latex": [
       "$\\displaystyle \\frac{16 m_{x} \\sin{\\left(\\frac{\\pi m w}{2 L_{x}} \\right)} \\sin{\\left(\\frac{\\pi m x_{c}}{L_{x}} \\right)} \\sin{\\left(\\frac{\\pi h n}{2 L_{y}} \\right)} \\cos{\\left(\\frac{\\pi n y_{c}}{L_{y}} \\right)}}{\\pi^{2} m n}$"
      ],
      "text/plain": [
       "16*m_x*sin(pi*m*w/(2*L_x))*sin(pi*m*x_c/L_x)*sin(pi*h*n/(2*L_y))*cos(pi*n*y_c/L_y)/(pi**2*m*n)"
      ]
     },
     "execution_count": 91,
     "metadata": {},
     "output_type": "execute_result"
    }
   ],
   "source": [
    "# constans moment of intensity mx, around global axis X,\n",
    "# over a rectangular area with width w, height h and center (xc, yc)\n",
    "m_x, w, h = symbols(\"m_x w h\", real=True)\n",
    "xc, yc = symbols(\"x_c y_c\", real=True)\n",
    "qmn = (4 / (Lx * Ly)) * integrate(\n",
    "    m_x * Sm * Cn, (x, xc - w / 2, xc + w / 2), (y, yc - h / 2, yc + h / 2)\n",
    ")\n",
    "qmn_mx = qmn.simplify().expand()\n",
    "qmn_mx"
   ]
  },
  {
   "attachments": {},
   "cell_type": "markdown",
   "metadata": {},
   "source": [
    "#### Constans $m_y$ moment over a rectangular area\n"
   ]
  },
  {
   "cell_type": "code",
   "execution_count": 92,
   "metadata": {},
   "outputs": [
    {
     "data": {
      "text/latex": [
       "$\\displaystyle \\frac{16 m_{y} \\sin{\\left(\\frac{\\pi m w}{2 L_{x}} \\right)} \\sin{\\left(\\frac{\\pi h n}{2 L_{y}} \\right)} \\sin{\\left(\\frac{\\pi n y_{c}}{L_{y}} \\right)} \\cos{\\left(\\frac{\\pi m x_{c}}{L_{x}} \\right)}}{\\pi^{2} m n}$"
      ],
      "text/plain": [
       "16*m_y*sin(pi*m*w/(2*L_x))*sin(pi*h*n/(2*L_y))*sin(pi*n*y_c/L_y)*cos(pi*m*x_c/L_x)/(pi**2*m*n)"
      ]
     },
     "execution_count": 92,
     "metadata": {},
     "output_type": "execute_result"
    }
   ],
   "source": [
    "# constant moment of intensity my, around global axis Y,\n",
    "# over a rectangular area with width w, height h and center (xc, yc)\n",
    "m_y, w, h = symbols(\"m_y w h\", real=True)\n",
    "xc, yc = symbols(\"x_c y_c\", real=True)\n",
    "qmn = (4 / (Lx * Ly)) * integrate(\n",
    "    m_y * Cm * Sn, (x, xc - w / 2, xc + w / 2), (y, yc - h / 2, yc + h / 2)\n",
    ")\n",
    "qmn_my = qmn.simplify().expand()\n",
    "qmn_my"
   ]
  },
  {
   "cell_type": "code",
   "execution_count": 93,
   "metadata": {},
   "outputs": [
    {
     "data": {
      "text/latex": [
       "$\\displaystyle \\left[\\begin{matrix}\\frac{16 q \\sin{\\left(\\frac{\\pi m w}{2 L_{x}} \\right)} \\sin{\\left(\\frac{\\pi m x_{c}}{L_{x}} \\right)} \\sin{\\left(\\frac{\\pi h n}{2 L_{y}} \\right)} \\sin{\\left(\\frac{\\pi n y_{c}}{L_{y}} \\right)}}{\\pi^{2} m n}\\\\\\frac{16 m_{x} \\sin{\\left(\\frac{\\pi m w}{2 L_{x}} \\right)} \\sin{\\left(\\frac{\\pi m x_{c}}{L_{x}} \\right)} \\sin{\\left(\\frac{\\pi h n}{2 L_{y}} \\right)} \\cos{\\left(\\frac{\\pi n y_{c}}{L_{y}} \\right)}}{\\pi^{2} m n}\\\\\\frac{16 m_{y} \\sin{\\left(\\frac{\\pi m w}{2 L_{x}} \\right)} \\sin{\\left(\\frac{\\pi h n}{2 L_{y}} \\right)} \\sin{\\left(\\frac{\\pi n y_{c}}{L_{y}} \\right)} \\cos{\\left(\\frac{\\pi m x_{c}}{L_{x}} \\right)}}{\\pi^{2} m n}\\end{matrix}\\right]$"
      ],
      "text/plain": [
       "Matrix([\n",
       "[  16*q*sin(pi*m*w/(2*L_x))*sin(pi*m*x_c/L_x)*sin(pi*h*n/(2*L_y))*sin(pi*n*y_c/L_y)/(pi**2*m*n)],\n",
       "[16*m_x*sin(pi*m*w/(2*L_x))*sin(pi*m*x_c/L_x)*sin(pi*h*n/(2*L_y))*cos(pi*n*y_c/L_y)/(pi**2*m*n)],\n",
       "[16*m_y*sin(pi*m*w/(2*L_x))*sin(pi*h*n/(2*L_y))*sin(pi*n*y_c/L_y)*cos(pi*m*x_c/L_x)/(pi**2*m*n)]])"
      ]
     },
     "execution_count": 93,
     "metadata": {},
     "output_type": "execute_result"
    }
   ],
   "source": [
    "f = Matrix([qmn_fz, qmn_mx, qmn_my])\n",
    "f"
   ]
  },
  {
   "attachments": {},
   "cell_type": "markdown",
   "metadata": {},
   "source": [
    "### Postprocessing\n"
   ]
  },
  {
   "cell_type": "code",
   "execution_count": 94,
   "metadata": {},
   "outputs": [
    {
     "data": {
      "text/latex": [
       "$\\displaystyle \\left[\\begin{matrix}A_{mn} \\sin{\\left(\\frac{\\pi m x}{L_{x}} \\right)} \\sin{\\left(\\frac{\\pi n y}{L_{y}} \\right)}\\\\\\frac{\\pi A_{mn} n \\sin{\\left(\\frac{\\pi m x}{L_{x}} \\right)} \\cos{\\left(\\frac{\\pi n y}{L_{y}} \\right)}}{L_{y}}\\\\- \\frac{\\pi A_{mn} m \\sin{\\left(\\frac{\\pi n y}{L_{y}} \\right)} \\cos{\\left(\\frac{\\pi m x}{L_{x}} \\right)}}{L_{x}}\\end{matrix}\\right]$"
      ],
      "text/plain": [
       "Matrix([\n",
       "[          A_{mn}*sin(pi*m*x/L_x)*sin(pi*n*y/L_y)],\n",
       "[ pi*A_{mn}*n*sin(pi*m*x/L_x)*cos(pi*n*y/L_y)/L_y],\n",
       "[-pi*A_{mn}*m*sin(pi*n*y/L_y)*cos(pi*m*x/L_x)/L_x]])"
      ]
     },
     "execution_count": 94,
     "metadata": {},
     "output_type": "execute_result"
    }
   ],
   "source": [
    "Matrix([w0_trial, thx_trial, thy_trial])"
   ]
  },
  {
   "cell_type": "code",
   "execution_count": 95,
   "metadata": {},
   "outputs": [
    {
     "data": {
      "text/latex": [
       "$\\displaystyle \\left[\\begin{matrix}\\frac{\\pi^{2} A_{mn} m^{2} \\sin{\\left(\\frac{\\pi m x}{L_{x}} \\right)} \\sin{\\left(\\frac{\\pi n y}{L_{y}} \\right)}}{L_{x}^{2}}\\\\\\frac{\\pi^{2} A_{mn} n^{2} \\sin{\\left(\\frac{\\pi m x}{L_{x}} \\right)} \\sin{\\left(\\frac{\\pi n y}{L_{y}} \\right)}}{L_{y}^{2}}\\\\- \\frac{2 \\pi^{2} A_{mn} m n \\cos{\\left(\\frac{\\pi m x}{L_{x}} \\right)} \\cos{\\left(\\frac{\\pi n y}{L_{y}} \\right)}}{L_{x} L_{y}}\\end{matrix}\\right]$"
      ],
      "text/plain": [
       "Matrix([\n",
       "[     pi**2*A_{mn}*m**2*sin(pi*m*x/L_x)*sin(pi*n*y/L_y)/L_x**2],\n",
       "[     pi**2*A_{mn}*n**2*sin(pi*m*x/L_x)*sin(pi*n*y/L_y)/L_y**2],\n",
       "[-2*pi**2*A_{mn}*m*n*cos(pi*m*x/L_x)*cos(pi*n*y/L_y)/(L_x*L_y)]])"
      ]
     },
     "execution_count": 95,
     "metadata": {},
     "output_type": "execute_result"
    }
   ],
   "source": [
    "kxx = kxx.subs(trial).expand().doit()\n",
    "kxx = kxx.simplify().expand()\n",
    "kyy = kyy.subs(trial).expand().doit()\n",
    "kyy = kyy.simplify().expand()\n",
    "kxy = kxy.subs(trial).expand().doit()\n",
    "kxy = kxy.simplify().expand()\n",
    "Matrix([kxx, kyy, kxy])"
   ]
  },
  {
   "cell_type": "code",
   "execution_count": 96,
   "metadata": {},
   "outputs": [
    {
     "data": {
      "text/latex": [
       "$\\displaystyle \\left[\\begin{matrix}\\frac{\\pi^{2} A_{mn} D_{11} m^{2} \\sin{\\left(\\frac{\\pi m x}{L_{x}} \\right)} \\sin{\\left(\\frac{\\pi n y}{L_{y}} \\right)}}{L_{x}^{2}} + \\frac{\\pi^{2} A_{mn} D_{12} n^{2} \\sin{\\left(\\frac{\\pi m x}{L_{x}} \\right)} \\sin{\\left(\\frac{\\pi n y}{L_{y}} \\right)}}{L_{y}^{2}}\\\\\\frac{\\pi^{2} A_{mn} D_{12} m^{2} \\sin{\\left(\\frac{\\pi m x}{L_{x}} \\right)} \\sin{\\left(\\frac{\\pi n y}{L_{y}} \\right)}}{L_{x}^{2}} + \\frac{\\pi^{2} A_{mn} D_{22} n^{2} \\sin{\\left(\\frac{\\pi m x}{L_{x}} \\right)} \\sin{\\left(\\frac{\\pi n y}{L_{y}} \\right)}}{L_{y}^{2}}\\\\- \\frac{2 \\pi^{2} A_{mn} D_{66} m n \\cos{\\left(\\frac{\\pi m x}{L_{x}} \\right)} \\cos{\\left(\\frac{\\pi n y}{L_{y}} \\right)}}{L_{x} L_{y}}\\\\\\frac{\\pi^{3} A_{mn} D_{11} m^{3} \\sin{\\left(\\frac{\\pi n y}{L_{y}} \\right)} \\cos{\\left(\\frac{\\pi m x}{L_{x}} \\right)}}{L_{x}^{3}} + \\frac{\\pi^{3} A_{mn} D_{12} m n^{2} \\sin{\\left(\\frac{\\pi n y}{L_{y}} \\right)} \\cos{\\left(\\frac{\\pi m x}{L_{x}} \\right)}}{L_{x} L_{y}^{2}} + \\frac{2 \\pi^{3} A_{mn} D_{66} m n^{2} \\sin{\\left(\\frac{\\pi n y}{L_{y}} \\right)} \\cos{\\left(\\frac{\\pi m x}{L_{x}} \\right)}}{L_{x} L_{y}^{2}} + r_{mn} \\sin{\\left(\\frac{\\pi n y}{L_{y}} \\right)} \\cos{\\left(\\frac{\\pi m x}{L_{x}} \\right)}\\\\\\frac{\\pi^{3} A_{mn} D_{12} m^{2} n \\sin{\\left(\\frac{\\pi m x}{L_{x}} \\right)} \\cos{\\left(\\frac{\\pi n y}{L_{y}} \\right)}}{L_{x}^{2} L_{y}} + \\frac{\\pi^{3} A_{mn} D_{22} n^{3} \\sin{\\left(\\frac{\\pi m x}{L_{x}} \\right)} \\cos{\\left(\\frac{\\pi n y}{L_{y}} \\right)}}{L_{y}^{3}} + \\frac{2 \\pi^{3} A_{mn} D_{66} m^{2} n \\sin{\\left(\\frac{\\pi m x}{L_{x}} \\right)} \\cos{\\left(\\frac{\\pi n y}{L_{y}} \\right)}}{L_{x}^{2} L_{y}} - q_{mn} \\sin{\\left(\\frac{\\pi m x}{L_{x}} \\right)} \\cos{\\left(\\frac{\\pi n y}{L_{y}} \\right)}\\end{matrix}\\right]$"
      ],
      "text/plain": [
       "Matrix([\n",
       "[                                                                                                                           pi**2*A_{mn}*D_11*m**2*sin(pi*m*x/L_x)*sin(pi*n*y/L_y)/L_x**2 + pi**2*A_{mn}*D_12*n**2*sin(pi*m*x/L_x)*sin(pi*n*y/L_y)/L_y**2],\n",
       "[                                                                                                                           pi**2*A_{mn}*D_12*m**2*sin(pi*m*x/L_x)*sin(pi*n*y/L_y)/L_x**2 + pi**2*A_{mn}*D_22*n**2*sin(pi*m*x/L_x)*sin(pi*n*y/L_y)/L_y**2],\n",
       "[                                                                                                                                                                                      -2*pi**2*A_{mn}*D_66*m*n*cos(pi*m*x/L_x)*cos(pi*n*y/L_y)/(L_x*L_y)],\n",
       "[pi**3*A_{mn}*D_11*m**3*sin(pi*n*y/L_y)*cos(pi*m*x/L_x)/L_x**3 + pi**3*A_{mn}*D_12*m*n**2*sin(pi*n*y/L_y)*cos(pi*m*x/L_x)/(L_x*L_y**2) + 2*pi**3*A_{mn}*D_66*m*n**2*sin(pi*n*y/L_y)*cos(pi*m*x/L_x)/(L_x*L_y**2) + r_{mn}*sin(pi*n*y/L_y)*cos(pi*m*x/L_x)],\n",
       "[pi**3*A_{mn}*D_12*m**2*n*sin(pi*m*x/L_x)*cos(pi*n*y/L_y)/(L_x**2*L_y) + pi**3*A_{mn}*D_22*n**3*sin(pi*m*x/L_x)*cos(pi*n*y/L_y)/L_y**3 + 2*pi**3*A_{mn}*D_66*m**2*n*sin(pi*m*x/L_x)*cos(pi*n*y/L_y)/(L_x**2*L_y) - q_{mn}*sin(pi*m*x/L_x)*cos(pi*n*y/L_y)]])"
      ]
     },
     "execution_count": 96,
     "metadata": {},
     "output_type": "execute_result"
    }
   ],
   "source": [
    "mx = mx.subs(trial).expand().doit()\n",
    "mx = mx.simplify().expand()\n",
    "my = my.subs(trial).expand().doit()\n",
    "my = my.simplify().expand()\n",
    "mxy = mxy.subs(trial).expand().doit()\n",
    "mxy = mxy.simplify().expand()\n",
    "vx = vx.subs(trial).expand().doit()\n",
    "vx = vx.simplify().expand()\n",
    "vy = vy.subs(trial).expand().doit()\n",
    "vy = vy.simplify().expand()\n",
    "Matrix([mx, my, mxy, vx, vy])"
   ]
  }
 ],
 "metadata": {
  "kernelspec": {
   "display_name": "Python 3.8.10 ('.sigeps': venv)",
   "language": "python",
   "name": "python3"
  },
  "language_info": {
   "codemirror_mode": {
    "name": "ipython",
    "version": 3
   },
   "file_extension": ".py",
   "mimetype": "text/x-python",
   "name": "python",
   "nbconvert_exporter": "python",
   "pygments_lexer": "ipython3",
   "version": "3.8.10"
  },
  "orig_nbformat": 4,
  "vscode": {
   "interpreter": {
    "hash": "5facf25dadae24d0f6f3d9b821e9851478f51388ee31821a60476e833f1169c6"
   }
  }
 },
 "nbformat": 4,
 "nbformat_minor": 2
}
