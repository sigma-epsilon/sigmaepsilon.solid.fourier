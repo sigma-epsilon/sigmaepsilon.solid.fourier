{
 "cells": [
  {
   "attachments": {},
   "cell_type": "markdown",
   "metadata": {},
   "source": [
    "# Navier's Solution to Simply-Supported Mindlin-Reissner Plates\n"
   ]
  },
  {
   "cell_type": "markdown",
   "metadata": {},
   "source": [
    "The notebook goes through the steps of symbolicly getting the expressions that are turned to code in the library. The steps lack explanation at the moment, later I'll come back to it (the author)."
   ]
  },
  {
   "cell_type": "code",
   "execution_count": 1,
   "metadata": {},
   "outputs": [],
   "source": [
    "from sigmaepsilon.math.linalg import inv_sym_3x3\n",
    "import sympy as sy\n",
    "from sympy import (\n",
    "    symbols,\n",
    "    Function,\n",
    "    diff,\n",
    "    Matrix,\n",
    "    MatMul,\n",
    "    integrate,\n",
    "    Symbol,\n",
    "    sin,\n",
    "    cos,\n",
    "    pi,\n",
    "    simplify,\n",
    ")"
   ]
  },
  {
   "attachments": {},
   "cell_type": "markdown",
   "metadata": {},
   "source": [
    "## Displacement Field\n"
   ]
  },
  {
   "cell_type": "code",
   "execution_count": 2,
   "metadata": {},
   "outputs": [
    {
     "data": {
      "text/latex": [
       "$\\displaystyle \\left[\\begin{matrix}z \\theta_{y}{\\left(x,y \\right)}\\\\- z \\theta_{x}{\\left(x,y \\right)}\\\\w_{0}{\\left(x,y \\right)}\\end{matrix}\\right]$"
      ],
      "text/plain": [
       "Matrix([\n",
       "[ z*\\theta_y(x, y)],\n",
       "[-z*\\theta_x(x, y)],\n",
       "[        w_0(x, y)]])"
      ]
     },
     "execution_count": 2,
     "metadata": {},
     "output_type": "execute_result"
    }
   ],
   "source": [
    "# coordinates in a suitable vector space\n",
    "x, y, z = symbols(\"x y z\", real=True)\n",
    "\n",
    "# kinematic variables\n",
    "w0 = Function(\"w_0\")(x, y)\n",
    "thx = Function(\"\\\\theta_x\")(x, y)\n",
    "thy = Function(\"\\\\theta_y\")(x, y)\n",
    "\n",
    "u = z * thy\n",
    "v = -z * thx\n",
    "w = w0\n",
    "disps = [u, v, w]\n",
    "Matrix(disps)"
   ]
  },
  {
   "attachments": {},
   "cell_type": "markdown",
   "metadata": {},
   "source": [
    "## Boundary Conditions and Trial Solution\n"
   ]
  },
  {
   "cell_type": "code",
   "execution_count": 3,
   "metadata": {},
   "outputs": [],
   "source": [
    "mn = m, n = symbols(\"m n\", integer=True, positive=True)\n",
    "coeffs = Amn, Bmn, Cmn = symbols(\"A_{mn} B_{mn} C_{mn}\", real=True)\n",
    "shape = Lx, Ly = symbols(\"L_x, L_y\", real=True)\n",
    "Sm, Sn = sin(m * pi * x / Lx), sin(n * pi * y / Ly)\n",
    "Cm, Cn = cos(m * pi * x / Lx), cos(n * pi * y / Ly)"
   ]
  },
  {
   "cell_type": "code",
   "execution_count": 4,
   "metadata": {},
   "outputs": [
    {
     "data": {
      "text/latex": [
       "$\\displaystyle \\left[\\begin{matrix}A_{mn} \\sin{\\left(\\frac{\\pi m x}{L_{x}} \\right)} \\sin{\\left(\\frac{\\pi n y}{L_{y}} \\right)}\\\\B_{mn} \\sin{\\left(\\frac{\\pi m x}{L_{x}} \\right)} \\cos{\\left(\\frac{\\pi n y}{L_{y}} \\right)}\\\\C_{mn} \\sin{\\left(\\frac{\\pi n y}{L_{y}} \\right)} \\cos{\\left(\\frac{\\pi m x}{L_{x}} \\right)}\\end{matrix}\\right]$"
      ],
      "text/plain": [
       "Matrix([\n",
       "[A_{mn}*sin(pi*m*x/L_x)*sin(pi*n*y/L_y)],\n",
       "[B_{mn}*sin(pi*m*x/L_x)*cos(pi*n*y/L_y)],\n",
       "[C_{mn}*sin(pi*n*y/L_y)*cos(pi*m*x/L_x)]])"
      ]
     },
     "execution_count": 4,
     "metadata": {},
     "output_type": "execute_result"
    }
   ],
   "source": [
    "w0_trial = Amn * Sm * Sn\n",
    "thx_trial = Bmn * Cn * Sm\n",
    "thy_trial = Cmn * Sn * Cm\n",
    "trial = {w0: w0_trial, thx: thx_trial, thy: thy_trial}\n",
    "disps_trial = [s.subs(trial).expand().doit() for s in [w0_trial, thx_trial, thy_trial]]\n",
    "Matrix(disps_trial)"
   ]
  },
  {
   "attachments": {},
   "cell_type": "markdown",
   "metadata": {},
   "source": [
    "## Strain - Displacement Equations\n"
   ]
  },
  {
   "cell_type": "code",
   "execution_count": 5,
   "metadata": {},
   "outputs": [
    {
     "data": {
      "text/latex": [
       "$\\displaystyle \\left[\\begin{matrix}z \\frac{\\partial}{\\partial x} \\theta_{y}{\\left(x,y \\right)}\\\\- z \\frac{\\partial}{\\partial y} \\theta_{x}{\\left(x,y \\right)}\\\\- z \\frac{\\partial}{\\partial x} \\theta_{x}{\\left(x,y \\right)} + z \\frac{\\partial}{\\partial y} \\theta_{y}{\\left(x,y \\right)}\\\\\\theta_{y}{\\left(x,y \\right)} + \\frac{\\partial}{\\partial x} w_{0}{\\left(x,y \\right)}\\\\- \\theta_{x}{\\left(x,y \\right)} + \\frac{\\partial}{\\partial y} w_{0}{\\left(x,y \\right)}\\end{matrix}\\right]$"
      ],
      "text/plain": [
       "Matrix([\n",
       "[                                   z*Derivative(\\theta_y(x, y), x)],\n",
       "[                                  -z*Derivative(\\theta_x(x, y), y)],\n",
       "[-z*Derivative(\\theta_x(x, y), x) + z*Derivative(\\theta_y(x, y), y)],\n",
       "[                         \\theta_y(x, y) + Derivative(w_0(x, y), x)],\n",
       "[                        -\\theta_x(x, y) + Derivative(w_0(x, y), y)]])"
      ]
     },
     "execution_count": 5,
     "metadata": {},
     "output_type": "execute_result"
    }
   ],
   "source": [
    "exx = diff(u, x)\n",
    "eyy = diff(v, y)\n",
    "exy = diff(u, y) + diff(v, x)\n",
    "exz = diff(w, x) + diff(u, z)\n",
    "eyz = diff(w, y) + diff(v, z)\n",
    "strains = [exx, eyy, exy, exz, eyz]\n",
    "Matrix(strains)"
   ]
  },
  {
   "cell_type": "code",
   "execution_count": 6,
   "metadata": {},
   "outputs": [
    {
     "data": {
      "text/latex": [
       "$\\displaystyle \\left[\\begin{matrix}\\frac{\\partial}{\\partial x} \\theta_{y}{\\left(x,y \\right)}\\\\- \\frac{\\partial}{\\partial y} \\theta_{x}{\\left(x,y \\right)}\\\\- \\frac{\\partial}{\\partial x} \\theta_{x}{\\left(x,y \\right)} + \\frac{\\partial}{\\partial y} \\theta_{y}{\\left(x,y \\right)}\\\\\\theta_{y}{\\left(x,y \\right)} + \\frac{\\partial}{\\partial x} w_{0}{\\left(x,y \\right)}\\\\- \\theta_{x}{\\left(x,y \\right)} + \\frac{\\partial}{\\partial y} w_{0}{\\left(x,y \\right)}\\end{matrix}\\right]$"
      ],
      "text/plain": [
       "Matrix([\n",
       "[                                 Derivative(\\theta_y(x, y), x)],\n",
       "[                                -Derivative(\\theta_x(x, y), y)],\n",
       "[-Derivative(\\theta_x(x, y), x) + Derivative(\\theta_y(x, y), y)],\n",
       "[                     \\theta_y(x, y) + Derivative(w_0(x, y), x)],\n",
       "[                    -\\theta_x(x, y) + Derivative(w_0(x, y), y)]])"
      ]
     },
     "execution_count": 6,
     "metadata": {},
     "output_type": "execute_result"
    }
   ],
   "source": [
    "kxx = diff(exx, z)\n",
    "kyy = diff(eyy, z)\n",
    "kxy = diff(exy, z)\n",
    "gen_strains = [kxx, kyy, kxy, exz, eyz]\n",
    "Matrix(gen_strains)"
   ]
  },
  {
   "cell_type": "code",
   "execution_count": 7,
   "metadata": {},
   "outputs": [
    {
     "data": {
      "text/latex": [
       "$\\displaystyle \\left[\\begin{matrix}- \\frac{\\pi C_{mn} m z \\sin{\\left(\\frac{\\pi m x}{L_{x}} \\right)} \\sin{\\left(\\frac{\\pi n y}{L_{y}} \\right)}}{L_{x}}\\\\\\frac{\\pi B_{mn} n z \\sin{\\left(\\frac{\\pi m x}{L_{x}} \\right)} \\sin{\\left(\\frac{\\pi n y}{L_{y}} \\right)}}{L_{y}}\\\\- \\frac{\\pi B_{mn} m z \\cos{\\left(\\frac{\\pi m x}{L_{x}} \\right)} \\cos{\\left(\\frac{\\pi n y}{L_{y}} \\right)}}{L_{x}} + \\frac{\\pi C_{mn} n z \\cos{\\left(\\frac{\\pi m x}{L_{x}} \\right)} \\cos{\\left(\\frac{\\pi n y}{L_{y}} \\right)}}{L_{y}}\\\\\\frac{\\pi A_{mn} m \\sin{\\left(\\frac{\\pi n y}{L_{y}} \\right)} \\cos{\\left(\\frac{\\pi m x}{L_{x}} \\right)}}{L_{x}} + C_{mn} \\sin{\\left(\\frac{\\pi n y}{L_{y}} \\right)} \\cos{\\left(\\frac{\\pi m x}{L_{x}} \\right)}\\\\\\frac{\\pi A_{mn} n \\sin{\\left(\\frac{\\pi m x}{L_{x}} \\right)} \\cos{\\left(\\frac{\\pi n y}{L_{y}} \\right)}}{L_{y}} - B_{mn} \\sin{\\left(\\frac{\\pi m x}{L_{x}} \\right)} \\cos{\\left(\\frac{\\pi n y}{L_{y}} \\right)}\\end{matrix}\\right]$"
      ],
      "text/plain": [
       "Matrix([\n",
       "[                                                    -pi*C_{mn}*m*z*sin(pi*m*x/L_x)*sin(pi*n*y/L_y)/L_x],\n",
       "[                                                     pi*B_{mn}*n*z*sin(pi*m*x/L_x)*sin(pi*n*y/L_y)/L_y],\n",
       "[-pi*B_{mn}*m*z*cos(pi*m*x/L_x)*cos(pi*n*y/L_y)/L_x + pi*C_{mn}*n*z*cos(pi*m*x/L_x)*cos(pi*n*y/L_y)/L_y],\n",
       "[              pi*A_{mn}*m*sin(pi*n*y/L_y)*cos(pi*m*x/L_x)/L_x + C_{mn}*sin(pi*n*y/L_y)*cos(pi*m*x/L_x)],\n",
       "[              pi*A_{mn}*n*sin(pi*m*x/L_x)*cos(pi*n*y/L_y)/L_y - B_{mn}*sin(pi*m*x/L_x)*cos(pi*n*y/L_y)]])"
      ]
     },
     "execution_count": 7,
     "metadata": {},
     "output_type": "execute_result"
    }
   ],
   "source": [
    "strains_trial = [s.subs(trial).expand().doit() for s in strains]\n",
    "Matrix(strains_trial)"
   ]
  },
  {
   "cell_type": "code",
   "execution_count": 8,
   "metadata": {},
   "outputs": [
    {
     "data": {
      "text/latex": [
       "$\\displaystyle \\left[\\begin{matrix}- \\frac{\\pi C_{mn} m \\sin{\\left(\\frac{\\pi m x}{L_{x}} \\right)} \\sin{\\left(\\frac{\\pi n y}{L_{y}} \\right)}}{L_{x}}\\\\\\frac{\\pi B_{mn} n \\sin{\\left(\\frac{\\pi m x}{L_{x}} \\right)} \\sin{\\left(\\frac{\\pi n y}{L_{y}} \\right)}}{L_{y}}\\\\- \\frac{\\pi B_{mn} m \\cos{\\left(\\frac{\\pi m x}{L_{x}} \\right)} \\cos{\\left(\\frac{\\pi n y}{L_{y}} \\right)}}{L_{x}} + \\frac{\\pi C_{mn} n \\cos{\\left(\\frac{\\pi m x}{L_{x}} \\right)} \\cos{\\left(\\frac{\\pi n y}{L_{y}} \\right)}}{L_{y}}\\\\\\frac{\\pi A_{mn} m \\sin{\\left(\\frac{\\pi n y}{L_{y}} \\right)} \\cos{\\left(\\frac{\\pi m x}{L_{x}} \\right)}}{L_{x}} + C_{mn} \\sin{\\left(\\frac{\\pi n y}{L_{y}} \\right)} \\cos{\\left(\\frac{\\pi m x}{L_{x}} \\right)}\\\\\\frac{\\pi A_{mn} n \\sin{\\left(\\frac{\\pi m x}{L_{x}} \\right)} \\cos{\\left(\\frac{\\pi n y}{L_{y}} \\right)}}{L_{y}} - B_{mn} \\sin{\\left(\\frac{\\pi m x}{L_{x}} \\right)} \\cos{\\left(\\frac{\\pi n y}{L_{y}} \\right)}\\end{matrix}\\right]$"
      ],
      "text/plain": [
       "Matrix([\n",
       "[                                                  -pi*C_{mn}*m*sin(pi*m*x/L_x)*sin(pi*n*y/L_y)/L_x],\n",
       "[                                                   pi*B_{mn}*n*sin(pi*m*x/L_x)*sin(pi*n*y/L_y)/L_y],\n",
       "[-pi*B_{mn}*m*cos(pi*m*x/L_x)*cos(pi*n*y/L_y)/L_x + pi*C_{mn}*n*cos(pi*m*x/L_x)*cos(pi*n*y/L_y)/L_y],\n",
       "[          pi*A_{mn}*m*sin(pi*n*y/L_y)*cos(pi*m*x/L_x)/L_x + C_{mn}*sin(pi*n*y/L_y)*cos(pi*m*x/L_x)],\n",
       "[          pi*A_{mn}*n*sin(pi*m*x/L_x)*cos(pi*n*y/L_y)/L_y - B_{mn}*sin(pi*m*x/L_x)*cos(pi*n*y/L_y)]])"
      ]
     },
     "execution_count": 8,
     "metadata": {},
     "output_type": "execute_result"
    }
   ],
   "source": [
    "gen_strains_trial = [k.subs(trial).expand().doit() for k in gen_strains]\n",
    "Matrix(gen_strains_trial)"
   ]
  },
  {
   "attachments": {},
   "cell_type": "markdown",
   "metadata": {},
   "source": [
    "## Stress Resultants\n"
   ]
  },
  {
   "cell_type": "code",
   "execution_count": 9,
   "metadata": {},
   "outputs": [],
   "source": [
    "C11, C22, C12, C16, C26, C66 = C126ij = symbols(\n",
    "    \"C_11 C_22 C_12 C_16 C_26 C_66\", real=True\n",
    ")\n",
    "C126 = sy.Matrix([[C11, C12, 0], [C12, C22, 0], [0, 0, C66]])\n",
    "sxx, syy, sxy = MatMul(C126, sy.Matrix([exx, eyy, exy])).doit()\n",
    "C44, C55 = C45ij = symbols(\"C_44 C_55\", real=True)\n",
    "C45 = sy.Matrix([[C44, 0], [0, C55]])\n",
    "syz, sxz = MatMul(C45, sy.Matrix([eyz, exz])).doit()\n",
    "\n",
    "# integrate through the thickness\n",
    "h = Symbol(\"t\", real=True)  # thickness\n",
    "\n",
    "\n",
    "def Int(expr):\n",
    "    return integrate(expr, (z, -h / 2, h / 2))\n",
    "\n",
    "\n",
    "D11, D22, D12, D66 = Dij = symbols(\"D_11 D_22 D_12 D_66\", real=True)\n",
    "S44, S55 = Sij = symbols(\"S_44 S_55\", real=True)\n",
    "#\n",
    "mx, my, mxy = M = Matrix([Int(s * z) for s in [sxx, syy, sxy]])\n",
    "vx, vy = V = Matrix([Int(s) for s in [sxz, syz]])\n",
    "#\n",
    "mx = mx.simplify().expand()\n",
    "cD11 = mx.coeff(C11 * h**3 / 12)\n",
    "cD12 = mx.coeff(C12 * h**3 / 12)\n",
    "mx = D11 * cD11 + D12 * cD12\n",
    "#\n",
    "my = my.simplify().expand()\n",
    "cD22 = my.coeff(C22 * h**3 / 12)\n",
    "cD21 = my.coeff(C12 * h**3 / 12)\n",
    "my = D22 * cD22 + D12 * cD21\n",
    "#\n",
    "mxy = mxy.simplify().expand()\n",
    "cD66 = mxy.coeff(C66 * h**3 / 12)\n",
    "mxy = D66 * cD66\n",
    "#\n",
    "vx = vx.simplify().expand()\n",
    "cS55 = vx.coeff(C55 * h)\n",
    "vx = S55 * cS55\n",
    "#\n",
    "vy = vy.simplify().expand()\n",
    "cS44 = vy.coeff(C44 * h)\n",
    "vy = S44 * cS44\n",
    "mx = mx.simplify().expand()\n",
    "my = my.simplify().expand()\n",
    "mxy = mxy.simplify().expand()\n",
    "vx = vx.simplify().expand()\n",
    "vy = vy.simplify().expand()"
   ]
  },
  {
   "cell_type": "code",
   "execution_count": 10,
   "metadata": {},
   "outputs": [
    {
     "data": {
      "text/latex": [
       "$\\displaystyle \\left[\\begin{matrix}D_{11} \\frac{\\partial}{\\partial x} \\theta_{y}{\\left(x,y \\right)} - D_{12} \\frac{\\partial}{\\partial y} \\theta_{x}{\\left(x,y \\right)}\\\\D_{12} \\frac{\\partial}{\\partial x} \\theta_{y}{\\left(x,y \\right)} - D_{22} \\frac{\\partial}{\\partial y} \\theta_{x}{\\left(x,y \\right)}\\\\- D_{66} \\frac{\\partial}{\\partial x} \\theta_{x}{\\left(x,y \\right)} + D_{66} \\frac{\\partial}{\\partial y} \\theta_{y}{\\left(x,y \\right)}\\\\S_{55} \\theta_{y}{\\left(x,y \\right)} + S_{55} \\frac{\\partial}{\\partial x} w_{0}{\\left(x,y \\right)}\\\\- S_{44} \\theta_{x}{\\left(x,y \\right)} + S_{44} \\frac{\\partial}{\\partial y} w_{0}{\\left(x,y \\right)}\\end{matrix}\\right]$"
      ],
      "text/plain": [
       "Matrix([\n",
       "[ D_11*Derivative(\\theta_y(x, y), x) - D_12*Derivative(\\theta_x(x, y), y)],\n",
       "[ D_12*Derivative(\\theta_y(x, y), x) - D_22*Derivative(\\theta_x(x, y), y)],\n",
       "[-D_66*Derivative(\\theta_x(x, y), x) + D_66*Derivative(\\theta_y(x, y), y)],\n",
       "[                     S_55*\\theta_y(x, y) + S_55*Derivative(w_0(x, y), x)],\n",
       "[                    -S_44*\\theta_x(x, y) + S_44*Derivative(w_0(x, y), y)]])"
      ]
     },
     "execution_count": 10,
     "metadata": {},
     "output_type": "execute_result"
    }
   ],
   "source": [
    "gen_forces = [mx, my, mxy, vx, vy]\n",
    "Matrix(gen_forces)"
   ]
  },
  {
   "cell_type": "code",
   "execution_count": 11,
   "metadata": {},
   "outputs": [
    {
     "data": {
      "text/latex": [
       "$\\displaystyle \\left[\\begin{matrix}\\frac{\\pi B_{mn} D_{12} n \\sin{\\left(\\frac{\\pi m x}{L_{x}} \\right)} \\sin{\\left(\\frac{\\pi n y}{L_{y}} \\right)}}{L_{y}} - \\frac{\\pi C_{mn} D_{11} m \\sin{\\left(\\frac{\\pi m x}{L_{x}} \\right)} \\sin{\\left(\\frac{\\pi n y}{L_{y}} \\right)}}{L_{x}}\\\\\\frac{\\pi B_{mn} D_{22} n \\sin{\\left(\\frac{\\pi m x}{L_{x}} \\right)} \\sin{\\left(\\frac{\\pi n y}{L_{y}} \\right)}}{L_{y}} - \\frac{\\pi C_{mn} D_{12} m \\sin{\\left(\\frac{\\pi m x}{L_{x}} \\right)} \\sin{\\left(\\frac{\\pi n y}{L_{y}} \\right)}}{L_{x}}\\\\- \\frac{\\pi B_{mn} D_{66} m \\cos{\\left(\\frac{\\pi m x}{L_{x}} \\right)} \\cos{\\left(\\frac{\\pi n y}{L_{y}} \\right)}}{L_{x}} + \\frac{\\pi C_{mn} D_{66} n \\cos{\\left(\\frac{\\pi m x}{L_{x}} \\right)} \\cos{\\left(\\frac{\\pi n y}{L_{y}} \\right)}}{L_{y}}\\\\\\frac{\\pi A_{mn} S_{55} m \\sin{\\left(\\frac{\\pi n y}{L_{y}} \\right)} \\cos{\\left(\\frac{\\pi m x}{L_{x}} \\right)}}{L_{x}} + C_{mn} S_{55} \\sin{\\left(\\frac{\\pi n y}{L_{y}} \\right)} \\cos{\\left(\\frac{\\pi m x}{L_{x}} \\right)}\\\\\\frac{\\pi A_{mn} S_{44} n \\sin{\\left(\\frac{\\pi m x}{L_{x}} \\right)} \\cos{\\left(\\frac{\\pi n y}{L_{y}} \\right)}}{L_{y}} - B_{mn} S_{44} \\sin{\\left(\\frac{\\pi m x}{L_{x}} \\right)} \\cos{\\left(\\frac{\\pi n y}{L_{y}} \\right)}\\end{matrix}\\right]$"
      ],
      "text/plain": [
       "Matrix([\n",
       "[ pi*B_{mn}*D_12*n*sin(pi*m*x/L_x)*sin(pi*n*y/L_y)/L_y - pi*C_{mn}*D_11*m*sin(pi*m*x/L_x)*sin(pi*n*y/L_y)/L_x],\n",
       "[ pi*B_{mn}*D_22*n*sin(pi*m*x/L_x)*sin(pi*n*y/L_y)/L_y - pi*C_{mn}*D_12*m*sin(pi*m*x/L_x)*sin(pi*n*y/L_y)/L_x],\n",
       "[-pi*B_{mn}*D_66*m*cos(pi*m*x/L_x)*cos(pi*n*y/L_y)/L_x + pi*C_{mn}*D_66*n*cos(pi*m*x/L_x)*cos(pi*n*y/L_y)/L_y],\n",
       "[          pi*A_{mn}*S_55*m*sin(pi*n*y/L_y)*cos(pi*m*x/L_x)/L_x + C_{mn}*S_55*sin(pi*n*y/L_y)*cos(pi*m*x/L_x)],\n",
       "[          pi*A_{mn}*S_44*n*sin(pi*m*x/L_x)*cos(pi*n*y/L_y)/L_y - B_{mn}*S_44*sin(pi*m*x/L_x)*cos(pi*n*y/L_y)]])"
      ]
     },
     "execution_count": 11,
     "metadata": {},
     "output_type": "execute_result"
    }
   ],
   "source": [
    "gen_forces_trial = [k.subs(trial).expand().doit() for k in gen_forces]\n",
    "Matrix(gen_forces_trial)"
   ]
  },
  {
   "cell_type": "code",
   "execution_count": 12,
   "metadata": {},
   "outputs": [
    {
     "data": {
      "text/latex": [
       "$\\displaystyle \\left[\\begin{matrix}D_{11} & D_{12} & 0 & 0 & 0\\\\D_{12} & D_{22} & 0 & 0 & 0\\\\0 & 0 & D_{66} & 0 & 0\\\\0 & 0 & 0 & S_{55} & 0\\\\0 & 0 & 0 & 0 & S_{44}\\end{matrix}\\right]$"
      ],
      "text/plain": [
       "Matrix([\n",
       "[D_11, D_12,    0,    0,    0],\n",
       "[D_12, D_22,    0,    0,    0],\n",
       "[   0,    0, D_66,    0,    0],\n",
       "[   0,    0,    0, S_55,    0],\n",
       "[   0,    0,    0,    0, S_44]])"
      ]
     },
     "execution_count": 12,
     "metadata": {},
     "output_type": "execute_result"
    }
   ],
   "source": [
    "D = sy.zeros(5, 5)\n",
    "D[0, 0] = mx.simplify().coeff(kxx)\n",
    "D[0, 1] = mx.simplify().coeff(kyy)\n",
    "D[0, 2] = mx.simplify().coeff(kxy)\n",
    "D[1, 0] = my.simplify().coeff(kxx)\n",
    "D[1, 1] = my.simplify().coeff(kyy)\n",
    "D[1, 2] = my.simplify().coeff(kxy)\n",
    "D[2, 0] = mxy.simplify().coeff(kxx)\n",
    "D[2, 1] = mxy.simplify().coeff(kyy)\n",
    "D[2, 2] = mxy.simplify().coeff(kxy)\n",
    "D[3, 3] = vx.simplify().coeff(exz)\n",
    "D[3, 4] = vx.simplify().coeff(eyz)\n",
    "D[4, 3] = vy.simplify().coeff(exz)\n",
    "D[4, 4] = vy.simplify().coeff(eyz)\n",
    "D"
   ]
  },
  {
   "attachments": {},
   "cell_type": "markdown",
   "metadata": {},
   "source": [
    "## Equilibrium Equations\n"
   ]
  },
  {
   "attachments": {},
   "cell_type": "markdown",
   "metadata": {},
   "source": [
    "The signs of the equations\n",
    "is selected such, that the coefficients of the load functions on the\n",
    "right-hand sides admit positive signs according to global axes.\n"
   ]
  },
  {
   "cell_type": "code",
   "execution_count": 13,
   "metadata": {},
   "outputs": [
    {
     "data": {
      "text/latex": [
       "$\\displaystyle \\left[\\begin{matrix}S_{44} \\frac{\\partial}{\\partial y} \\theta_{x}{\\left(x,y \\right)} - S_{44} \\frac{\\partial^{2}}{\\partial y^{2}} w_{0}{\\left(x,y \\right)} - S_{55} \\frac{\\partial}{\\partial x} \\theta_{y}{\\left(x,y \\right)} - S_{55} \\frac{\\partial^{2}}{\\partial x^{2}} w_{0}{\\left(x,y \\right)}\\\\D_{12} \\frac{\\partial^{2}}{\\partial y\\partial x} \\theta_{y}{\\left(x,y \\right)} - D_{22} \\frac{\\partial^{2}}{\\partial y^{2}} \\theta_{x}{\\left(x,y \\right)} - D_{66} \\frac{\\partial^{2}}{\\partial x^{2}} \\theta_{x}{\\left(x,y \\right)} + D_{66} \\frac{\\partial^{2}}{\\partial y\\partial x} \\theta_{y}{\\left(x,y \\right)} + S_{44} \\theta_{x}{\\left(x,y \\right)} - S_{44} \\frac{\\partial}{\\partial y} w_{0}{\\left(x,y \\right)}\\\\- D_{11} \\frac{\\partial^{2}}{\\partial x^{2}} \\theta_{y}{\\left(x,y \\right)} + D_{12} \\frac{\\partial^{2}}{\\partial y\\partial x} \\theta_{x}{\\left(x,y \\right)} - D_{66} \\frac{\\partial^{2}}{\\partial y^{2}} \\theta_{y}{\\left(x,y \\right)} + D_{66} \\frac{\\partial^{2}}{\\partial y\\partial x} \\theta_{x}{\\left(x,y \\right)} + S_{55} \\theta_{y}{\\left(x,y \\right)} + S_{55} \\frac{\\partial}{\\partial x} w_{0}{\\left(x,y \\right)}\\end{matrix}\\right]$"
      ],
      "text/plain": [
       "Matrix([\n",
       "[                                                                       S_44*Derivative(\\theta_x(x, y), y) - S_44*Derivative(w_0(x, y), (y, 2)) - S_55*Derivative(\\theta_y(x, y), x) - S_55*Derivative(w_0(x, y), (x, 2))],\n",
       "[ D_12*Derivative(\\theta_y(x, y), x, y) - D_22*Derivative(\\theta_x(x, y), (y, 2)) - D_66*Derivative(\\theta_x(x, y), (x, 2)) + D_66*Derivative(\\theta_y(x, y), x, y) + S_44*\\theta_x(x, y) - S_44*Derivative(w_0(x, y), y)],\n",
       "[-D_11*Derivative(\\theta_y(x, y), (x, 2)) + D_12*Derivative(\\theta_x(x, y), x, y) - D_66*Derivative(\\theta_y(x, y), (y, 2)) + D_66*Derivative(\\theta_x(x, y), x, y) + S_55*\\theta_y(x, y) + S_55*Derivative(w_0(x, y), x)]])"
      ]
     },
     "execution_count": 13,
     "metadata": {},
     "output_type": "execute_result"
    }
   ],
   "source": [
    "# vertical equilibrium\n",
    "lhs_fz = simplify(-diff(vx, x) - diff(vy, y)).expand()\n",
    "# moment around global X\n",
    "lhs_mx = simplify(diff(mxy, x) + diff(my, y) - vy).expand()\n",
    "# moment around global Y\n",
    "lhs_my = simplify(-diff(mxy, y) - diff(mx, x) + vx).expand()\n",
    "\n",
    "equations = [lhs_fz, lhs_mx, lhs_my]\n",
    "Matrix(equations)"
   ]
  },
  {
   "cell_type": "code",
   "execution_count": 14,
   "metadata": {},
   "outputs": [
    {
     "data": {
      "text/latex": [
       "$\\displaystyle \\left[\\begin{matrix}\\frac{\\pi^{2} A_{mn} S_{44} n^{2} \\sin{\\left(\\frac{\\pi m x}{L_{x}} \\right)} \\sin{\\left(\\frac{\\pi n y}{L_{y}} \\right)}}{L_{y}^{2}} + \\frac{\\pi^{2} A_{mn} S_{55} m^{2} \\sin{\\left(\\frac{\\pi m x}{L_{x}} \\right)} \\sin{\\left(\\frac{\\pi n y}{L_{y}} \\right)}}{L_{x}^{2}} - \\frac{\\pi B_{mn} S_{44} n \\sin{\\left(\\frac{\\pi m x}{L_{x}} \\right)} \\sin{\\left(\\frac{\\pi n y}{L_{y}} \\right)}}{L_{y}} + \\frac{\\pi C_{mn} S_{55} m \\sin{\\left(\\frac{\\pi m x}{L_{x}} \\right)} \\sin{\\left(\\frac{\\pi n y}{L_{y}} \\right)}}{L_{x}}\\\\- \\frac{\\pi A_{mn} S_{44} n \\sin{\\left(\\frac{\\pi m x}{L_{x}} \\right)} \\cos{\\left(\\frac{\\pi n y}{L_{y}} \\right)}}{L_{y}} + \\frac{\\pi^{2} B_{mn} D_{22} n^{2} \\sin{\\left(\\frac{\\pi m x}{L_{x}} \\right)} \\cos{\\left(\\frac{\\pi n y}{L_{y}} \\right)}}{L_{y}^{2}} + \\frac{\\pi^{2} B_{mn} D_{66} m^{2} \\sin{\\left(\\frac{\\pi m x}{L_{x}} \\right)} \\cos{\\left(\\frac{\\pi n y}{L_{y}} \\right)}}{L_{x}^{2}} + B_{mn} S_{44} \\sin{\\left(\\frac{\\pi m x}{L_{x}} \\right)} \\cos{\\left(\\frac{\\pi n y}{L_{y}} \\right)} - \\frac{\\pi^{2} C_{mn} D_{12} m n \\sin{\\left(\\frac{\\pi m x}{L_{x}} \\right)} \\cos{\\left(\\frac{\\pi n y}{L_{y}} \\right)}}{L_{x} L_{y}} - \\frac{\\pi^{2} C_{mn} D_{66} m n \\sin{\\left(\\frac{\\pi m x}{L_{x}} \\right)} \\cos{\\left(\\frac{\\pi n y}{L_{y}} \\right)}}{L_{x} L_{y}}\\\\\\frac{\\pi A_{mn} S_{55} m \\sin{\\left(\\frac{\\pi n y}{L_{y}} \\right)} \\cos{\\left(\\frac{\\pi m x}{L_{x}} \\right)}}{L_{x}} - \\frac{\\pi^{2} B_{mn} D_{12} m n \\sin{\\left(\\frac{\\pi n y}{L_{y}} \\right)} \\cos{\\left(\\frac{\\pi m x}{L_{x}} \\right)}}{L_{x} L_{y}} - \\frac{\\pi^{2} B_{mn} D_{66} m n \\sin{\\left(\\frac{\\pi n y}{L_{y}} \\right)} \\cos{\\left(\\frac{\\pi m x}{L_{x}} \\right)}}{L_{x} L_{y}} + \\frac{\\pi^{2} C_{mn} D_{11} m^{2} \\sin{\\left(\\frac{\\pi n y}{L_{y}} \\right)} \\cos{\\left(\\frac{\\pi m x}{L_{x}} \\right)}}{L_{x}^{2}} + \\frac{\\pi^{2} C_{mn} D_{66} n^{2} \\sin{\\left(\\frac{\\pi n y}{L_{y}} \\right)} \\cos{\\left(\\frac{\\pi m x}{L_{x}} \\right)}}{L_{y}^{2}} + C_{mn} S_{55} \\sin{\\left(\\frac{\\pi n y}{L_{y}} \\right)} \\cos{\\left(\\frac{\\pi m x}{L_{x}} \\right)}\\end{matrix}\\right]$"
      ],
      "text/plain": [
       "Matrix([\n",
       "[                                                                                                                            pi**2*A_{mn}*S_44*n**2*sin(pi*m*x/L_x)*sin(pi*n*y/L_y)/L_y**2 + pi**2*A_{mn}*S_55*m**2*sin(pi*m*x/L_x)*sin(pi*n*y/L_y)/L_x**2 - pi*B_{mn}*S_44*n*sin(pi*m*x/L_x)*sin(pi*n*y/L_y)/L_y + pi*C_{mn}*S_55*m*sin(pi*m*x/L_x)*sin(pi*n*y/L_y)/L_x],\n",
       "[-pi*A_{mn}*S_44*n*sin(pi*m*x/L_x)*cos(pi*n*y/L_y)/L_y + pi**2*B_{mn}*D_22*n**2*sin(pi*m*x/L_x)*cos(pi*n*y/L_y)/L_y**2 + pi**2*B_{mn}*D_66*m**2*sin(pi*m*x/L_x)*cos(pi*n*y/L_y)/L_x**2 + B_{mn}*S_44*sin(pi*m*x/L_x)*cos(pi*n*y/L_y) - pi**2*C_{mn}*D_12*m*n*sin(pi*m*x/L_x)*cos(pi*n*y/L_y)/(L_x*L_y) - pi**2*C_{mn}*D_66*m*n*sin(pi*m*x/L_x)*cos(pi*n*y/L_y)/(L_x*L_y)],\n",
       "[ pi*A_{mn}*S_55*m*sin(pi*n*y/L_y)*cos(pi*m*x/L_x)/L_x - pi**2*B_{mn}*D_12*m*n*sin(pi*n*y/L_y)*cos(pi*m*x/L_x)/(L_x*L_y) - pi**2*B_{mn}*D_66*m*n*sin(pi*n*y/L_y)*cos(pi*m*x/L_x)/(L_x*L_y) + pi**2*C_{mn}*D_11*m**2*sin(pi*n*y/L_y)*cos(pi*m*x/L_x)/L_x**2 + pi**2*C_{mn}*D_66*n**2*sin(pi*n*y/L_y)*cos(pi*m*x/L_x)/L_y**2 + C_{mn}*S_55*sin(pi*n*y/L_y)*cos(pi*m*x/L_x)]])"
      ]
     },
     "execution_count": 14,
     "metadata": {},
     "output_type": "execute_result"
    }
   ],
   "source": [
    "equations_trial = [k.subs(trial).expand().doit() for k in equations]\n",
    "Matrix(equations_trial)"
   ]
  },
  {
   "cell_type": "code",
   "execution_count": 23,
   "metadata": {},
   "outputs": [
    {
     "data": {
      "text/latex": [
       "$\\displaystyle \\left[\\begin{matrix}\\frac{\\pi^{2} S_{44} n^{2}}{L_{y}^{2}} + \\frac{\\pi^{2} S_{55} m^{2}}{L_{x}^{2}} & - \\frac{\\pi S_{44} n}{L_{y}} & \\frac{\\pi S_{55} m}{L_{x}}\\\\- \\frac{\\pi S_{44} n}{L_{y}} & \\frac{\\pi^{2} D_{22} n^{2}}{L_{y}^{2}} + \\frac{\\pi^{2} D_{66} m^{2}}{L_{x}^{2}} + S_{44} & - \\frac{\\pi^{2} D_{12} m n}{L_{x} L_{y}} - \\frac{\\pi^{2} D_{66} m n}{L_{x} L_{y}}\\\\\\frac{\\pi S_{55} m}{L_{x}} & - \\frac{\\pi^{2} D_{12} m n}{L_{x} L_{y}} - \\frac{\\pi^{2} D_{66} m n}{L_{x} L_{y}} & \\frac{\\pi^{2} D_{11} m^{2}}{L_{x}^{2}} + \\frac{\\pi^{2} D_{66} n^{2}}{L_{y}^{2}} + S_{55}\\end{matrix}\\right]$"
      ],
      "text/plain": [
       "Matrix([\n",
       "[pi**2*S_44*n**2/L_y**2 + pi**2*S_55*m**2/L_x**2,                                         -pi*S_44*n/L_y,                                          pi*S_55*m/L_x],\n",
       "[                                 -pi*S_44*n/L_y, pi**2*D_22*n**2/L_y**2 + pi**2*D_66*m**2/L_x**2 + S_44,   -pi**2*D_12*m*n/(L_x*L_y) - pi**2*D_66*m*n/(L_x*L_y)],\n",
       "[                                  pi*S_55*m/L_x,   -pi**2*D_12*m*n/(L_x*L_y) - pi**2*D_66*m*n/(L_x*L_y), pi**2*D_11*m**2/L_x**2 + pi**2*D_66*n**2/L_y**2 + S_55]])"
      ]
     },
     "execution_count": 23,
     "metadata": {},
     "output_type": "execute_result"
    }
   ],
   "source": [
    "eq_fz_trial = equations_trial[0].expand().doit() / (Sm * Sn)\n",
    "eq_fz_trial = eq_fz_trial.simplify().expand()\n",
    "eq_mx_trial = equations_trial[1].expand().doit() / (Sm * Cn)\n",
    "eq_mx_trial = eq_mx_trial.simplify().expand()\n",
    "eq_my_trial = equations_trial[2].expand().doit() / (Cm * Sn)\n",
    "eq_my_trial = eq_my_trial.simplify().expand()\n",
    "\n",
    "P = sy.zeros(3, 3)\n",
    "P[0, :] = Matrix([eq_fz_trial.coeff(c) for c in coeffs]).T\n",
    "P[1, :] = Matrix([eq_mx_trial.coeff(c) for c in coeffs]).T\n",
    "P[2, :] = Matrix([eq_my_trial.coeff(c) for c in coeffs]).T\n",
    "detP, adjP = inv_sym_3x3(P, as_adj_det=True)\n",
    "detP = detP.simplify().expand()\n",
    "adjP.simplify()\n",
    "P"
   ]
  },
  {
   "attachments": {},
   "cell_type": "markdown",
   "metadata": {},
   "source": [
    "### Postprocessing\n"
   ]
  },
  {
   "cell_type": "code",
   "execution_count": 24,
   "metadata": {},
   "outputs": [
    {
     "data": {
      "text/latex": [
       "$\\displaystyle \\left[\\begin{matrix}A_{mn} \\sin{\\left(\\frac{\\pi m x}{L_{x}} \\right)} \\sin{\\left(\\frac{\\pi n y}{L_{y}} \\right)}\\\\B_{mn} \\sin{\\left(\\frac{\\pi m x}{L_{x}} \\right)} \\cos{\\left(\\frac{\\pi n y}{L_{y}} \\right)}\\\\C_{mn} \\sin{\\left(\\frac{\\pi n y}{L_{y}} \\right)} \\cos{\\left(\\frac{\\pi m x}{L_{x}} \\right)}\\end{matrix}\\right]$"
      ],
      "text/plain": [
       "Matrix([\n",
       "[A_{mn}*sin(pi*m*x/L_x)*sin(pi*n*y/L_y)],\n",
       "[B_{mn}*sin(pi*m*x/L_x)*cos(pi*n*y/L_y)],\n",
       "[C_{mn}*sin(pi*n*y/L_y)*cos(pi*m*x/L_x)]])"
      ]
     },
     "execution_count": 24,
     "metadata": {},
     "output_type": "execute_result"
    }
   ],
   "source": [
    "Matrix([w0_trial, thx_trial, thy_trial])"
   ]
  },
  {
   "cell_type": "code",
   "execution_count": 25,
   "metadata": {},
   "outputs": [
    {
     "data": {
      "text/latex": [
       "$\\displaystyle \\left[\\begin{matrix}- \\frac{\\pi C_{mn} m \\sin{\\left(\\frac{\\pi m x}{L_{x}} \\right)} \\sin{\\left(\\frac{\\pi n y}{L_{y}} \\right)}}{L_{x}}\\\\\\frac{\\pi B_{mn} n \\sin{\\left(\\frac{\\pi m x}{L_{x}} \\right)} \\sin{\\left(\\frac{\\pi n y}{L_{y}} \\right)}}{L_{y}}\\\\- \\frac{\\pi B_{mn} m \\cos{\\left(\\frac{\\pi m x}{L_{x}} \\right)} \\cos{\\left(\\frac{\\pi n y}{L_{y}} \\right)}}{L_{x}} + \\frac{\\pi C_{mn} n \\cos{\\left(\\frac{\\pi m x}{L_{x}} \\right)} \\cos{\\left(\\frac{\\pi n y}{L_{y}} \\right)}}{L_{y}}\\\\\\frac{\\pi A_{mn} m \\sin{\\left(\\frac{\\pi n y}{L_{y}} \\right)} \\cos{\\left(\\frac{\\pi m x}{L_{x}} \\right)}}{L_{x}} + C_{mn} \\sin{\\left(\\frac{\\pi n y}{L_{y}} \\right)} \\cos{\\left(\\frac{\\pi m x}{L_{x}} \\right)}\\\\\\frac{\\pi A_{mn} n \\sin{\\left(\\frac{\\pi m x}{L_{x}} \\right)} \\cos{\\left(\\frac{\\pi n y}{L_{y}} \\right)}}{L_{y}} - B_{mn} \\sin{\\left(\\frac{\\pi m x}{L_{x}} \\right)} \\cos{\\left(\\frac{\\pi n y}{L_{y}} \\right)}\\end{matrix}\\right]$"
      ],
      "text/plain": [
       "Matrix([\n",
       "[                                                  -pi*C_{mn}*m*sin(pi*m*x/L_x)*sin(pi*n*y/L_y)/L_x],\n",
       "[                                                   pi*B_{mn}*n*sin(pi*m*x/L_x)*sin(pi*n*y/L_y)/L_y],\n",
       "[-pi*B_{mn}*m*cos(pi*m*x/L_x)*cos(pi*n*y/L_y)/L_x + pi*C_{mn}*n*cos(pi*m*x/L_x)*cos(pi*n*y/L_y)/L_y],\n",
       "[          pi*A_{mn}*m*sin(pi*n*y/L_y)*cos(pi*m*x/L_x)/L_x + C_{mn}*sin(pi*n*y/L_y)*cos(pi*m*x/L_x)],\n",
       "[          pi*A_{mn}*n*sin(pi*m*x/L_x)*cos(pi*n*y/L_y)/L_y - B_{mn}*sin(pi*m*x/L_x)*cos(pi*n*y/L_y)]])"
      ]
     },
     "execution_count": 25,
     "metadata": {},
     "output_type": "execute_result"
    }
   ],
   "source": [
    "kxx = kxx.subs(trial).expand().doit()\n",
    "kxx = kxx.simplify().expand()\n",
    "kyy = kyy.subs(trial).expand().doit()\n",
    "kyy = kyy.simplify().expand()\n",
    "kxy = kxy.subs(trial).expand().doit()\n",
    "kxy = kxy.simplify().expand()\n",
    "exz = exz.subs(trial).expand().doit()\n",
    "exz = exz.simplify().expand()\n",
    "eyz = eyz.subs(trial).expand().doit()\n",
    "eyz = eyz.simplify().expand()\n",
    "Matrix([kxx, kyy, kxy, exz, eyz])"
   ]
  },
  {
   "cell_type": "code",
   "execution_count": 26,
   "metadata": {},
   "outputs": [
    {
     "data": {
      "text/latex": [
       "$\\displaystyle \\left[\\begin{matrix}\\frac{\\pi B_{mn} D_{12} n \\sin{\\left(\\frac{\\pi m x}{L_{x}} \\right)} \\sin{\\left(\\frac{\\pi n y}{L_{y}} \\right)}}{L_{y}} - \\frac{\\pi C_{mn} D_{11} m \\sin{\\left(\\frac{\\pi m x}{L_{x}} \\right)} \\sin{\\left(\\frac{\\pi n y}{L_{y}} \\right)}}{L_{x}}\\\\\\frac{\\pi B_{mn} D_{22} n \\sin{\\left(\\frac{\\pi m x}{L_{x}} \\right)} \\sin{\\left(\\frac{\\pi n y}{L_{y}} \\right)}}{L_{y}} - \\frac{\\pi C_{mn} D_{12} m \\sin{\\left(\\frac{\\pi m x}{L_{x}} \\right)} \\sin{\\left(\\frac{\\pi n y}{L_{y}} \\right)}}{L_{x}}\\\\- \\frac{\\pi B_{mn} D_{66} m \\cos{\\left(\\frac{\\pi m x}{L_{x}} \\right)} \\cos{\\left(\\frac{\\pi n y}{L_{y}} \\right)}}{L_{x}} + \\frac{\\pi C_{mn} D_{66} n \\cos{\\left(\\frac{\\pi m x}{L_{x}} \\right)} \\cos{\\left(\\frac{\\pi n y}{L_{y}} \\right)}}{L_{y}}\\\\\\frac{\\pi A_{mn} S_{55} m \\sin{\\left(\\frac{\\pi n y}{L_{y}} \\right)} \\cos{\\left(\\frac{\\pi m x}{L_{x}} \\right)}}{L_{x}} + C_{mn} S_{55} \\sin{\\left(\\frac{\\pi n y}{L_{y}} \\right)} \\cos{\\left(\\frac{\\pi m x}{L_{x}} \\right)}\\\\\\frac{\\pi A_{mn} S_{44} n \\sin{\\left(\\frac{\\pi m x}{L_{x}} \\right)} \\cos{\\left(\\frac{\\pi n y}{L_{y}} \\right)}}{L_{y}} - B_{mn} S_{44} \\sin{\\left(\\frac{\\pi m x}{L_{x}} \\right)} \\cos{\\left(\\frac{\\pi n y}{L_{y}} \\right)}\\end{matrix}\\right]$"
      ],
      "text/plain": [
       "Matrix([\n",
       "[ pi*B_{mn}*D_12*n*sin(pi*m*x/L_x)*sin(pi*n*y/L_y)/L_y - pi*C_{mn}*D_11*m*sin(pi*m*x/L_x)*sin(pi*n*y/L_y)/L_x],\n",
       "[ pi*B_{mn}*D_22*n*sin(pi*m*x/L_x)*sin(pi*n*y/L_y)/L_y - pi*C_{mn}*D_12*m*sin(pi*m*x/L_x)*sin(pi*n*y/L_y)/L_x],\n",
       "[-pi*B_{mn}*D_66*m*cos(pi*m*x/L_x)*cos(pi*n*y/L_y)/L_x + pi*C_{mn}*D_66*n*cos(pi*m*x/L_x)*cos(pi*n*y/L_y)/L_y],\n",
       "[          pi*A_{mn}*S_55*m*sin(pi*n*y/L_y)*cos(pi*m*x/L_x)/L_x + C_{mn}*S_55*sin(pi*n*y/L_y)*cos(pi*m*x/L_x)],\n",
       "[          pi*A_{mn}*S_44*n*sin(pi*m*x/L_x)*cos(pi*n*y/L_y)/L_y - B_{mn}*S_44*sin(pi*m*x/L_x)*cos(pi*n*y/L_y)]])"
      ]
     },
     "execution_count": 26,
     "metadata": {},
     "output_type": "execute_result"
    }
   ],
   "source": [
    "mx = mx.subs(trial).expand().doit()\n",
    "mx = mx.simplify().expand()\n",
    "my = my.subs(trial).expand().doit()\n",
    "my = my.simplify().expand()\n",
    "mxy = mxy.subs(trial).expand().doit()\n",
    "mxy = mxy.simplify().expand()\n",
    "vx = vx.subs(trial).expand().doit()\n",
    "vx = vx.simplify().expand()\n",
    "vy = vy.subs(trial).expand().doit()\n",
    "vy = vy.simplify().expand()\n",
    "Matrix([mx, my, mxy, vx, vy])"
   ]
  },
  {
   "attachments": {},
   "cell_type": "markdown",
   "metadata": {},
   "source": [
    "### Loads\n"
   ]
  },
  {
   "attachments": {},
   "cell_type": "markdown",
   "metadata": {},
   "source": [
    "#### Constans vertical load over a rectangular area\n"
   ]
  },
  {
   "cell_type": "code",
   "execution_count": 27,
   "metadata": {},
   "outputs": [
    {
     "data": {
      "text/latex": [
       "$\\displaystyle \\frac{16 q \\sin{\\left(\\frac{\\pi m w}{2 L_{x}} \\right)} \\sin{\\left(\\frac{\\pi m x_{c}}{L_{x}} \\right)} \\sin{\\left(\\frac{\\pi h n}{2 L_{y}} \\right)} \\sin{\\left(\\frac{\\pi n y_{c}}{L_{y}} \\right)}}{\\pi^{2} m n}$"
      ],
      "text/plain": [
       "16*q*sin(pi*m*w/(2*L_x))*sin(pi*m*x_c/L_x)*sin(pi*h*n/(2*L_y))*sin(pi*n*y_c/L_y)/(pi**2*m*n)"
      ]
     },
     "execution_count": 27,
     "metadata": {},
     "output_type": "execute_result"
    }
   ],
   "source": [
    "# constans vertical load over a rectangular area\n",
    "q, w, h = symbols(\"q w h\", real=True)\n",
    "xc, yc = symbols(\"x_c y_c\", real=True)\n",
    "qmn = (4 / (Lx * Ly)) * integrate(\n",
    "    q * Sm * Sn, (x, xc - w / 2, xc + w / 2), (y, yc - h / 2, yc + h / 2)\n",
    ")\n",
    "qmn_fz = qmn.simplify().expand()\n",
    "qmn_fz"
   ]
  },
  {
   "attachments": {},
   "cell_type": "markdown",
   "metadata": {},
   "source": [
    "#### Constans $m_x$ moment over a rectangular area\n"
   ]
  },
  {
   "cell_type": "code",
   "execution_count": 28,
   "metadata": {},
   "outputs": [
    {
     "data": {
      "text/latex": [
       "$\\displaystyle \\frac{16 m_{x} \\sin{\\left(\\frac{\\pi m w}{2 L_{x}} \\right)} \\sin{\\left(\\frac{\\pi h n}{2 L_{y}} \\right)} \\sin{\\left(\\frac{\\pi n y_{c}}{L_{y}} \\right)} \\cos{\\left(\\frac{\\pi m x_{c}}{L_{x}} \\right)}}{\\pi^{2} m n}$"
      ],
      "text/plain": [
       "16*m_x*sin(pi*m*w/(2*L_x))*sin(pi*h*n/(2*L_y))*sin(pi*n*y_c/L_y)*cos(pi*m*x_c/L_x)/(pi**2*m*n)"
      ]
     },
     "execution_count": 28,
     "metadata": {},
     "output_type": "execute_result"
    }
   ],
   "source": [
    "# constans moment of intensity mx, around global axis X,\n",
    "# over a rectangular area with width w, height h and center (xc, yc)\n",
    "m_x, w, h = symbols(\"m_x w h\", real=True)\n",
    "xc, yc = symbols(\"x_c y_c\", real=True)\n",
    "qmn = (4 / (Lx * Ly)) * integrate(\n",
    "    m_x * Cm * Sn, (x, xc - w / 2, xc + w / 2), (y, yc - h / 2, yc + h / 2)\n",
    ")\n",
    "qmn_mx = qmn.simplify().expand()\n",
    "qmn_mx"
   ]
  },
  {
   "attachments": {},
   "cell_type": "markdown",
   "metadata": {},
   "source": [
    "#### Constans $m_y$ moment over a rectangular area\n"
   ]
  },
  {
   "cell_type": "code",
   "execution_count": 29,
   "metadata": {},
   "outputs": [
    {
     "data": {
      "text/latex": [
       "$\\displaystyle \\frac{16 m_{y} \\sin{\\left(\\frac{\\pi m w}{2 L_{x}} \\right)} \\sin{\\left(\\frac{\\pi m x_{c}}{L_{x}} \\right)} \\sin{\\left(\\frac{\\pi h n}{2 L_{y}} \\right)} \\cos{\\left(\\frac{\\pi n y_{c}}{L_{y}} \\right)}}{\\pi^{2} m n}$"
      ],
      "text/plain": [
       "16*m_y*sin(pi*m*w/(2*L_x))*sin(pi*m*x_c/L_x)*sin(pi*h*n/(2*L_y))*cos(pi*n*y_c/L_y)/(pi**2*m*n)"
      ]
     },
     "execution_count": 29,
     "metadata": {},
     "output_type": "execute_result"
    }
   ],
   "source": [
    "# constant moment of intensity my, around global axis Y,\n",
    "# over a rectangular area with width w, height h and center (xc, yc)\n",
    "m_y, w, h = symbols(\"m_y w h\", real=True)\n",
    "xc, yc = symbols(\"x_c y_c\", real=True)\n",
    "qmn = (4 / (Lx * Ly)) * integrate(\n",
    "    m_y * Sm * Cn, (x, xc - w / 2, xc + w / 2), (y, yc - h / 2, yc + h / 2)\n",
    ")\n",
    "qmn_my = qmn.simplify().expand()\n",
    "qmn_my"
   ]
  },
  {
   "cell_type": "code",
   "execution_count": 30,
   "metadata": {},
   "outputs": [
    {
     "data": {
      "text/latex": [
       "$\\displaystyle \\left[\\begin{matrix}\\frac{16 q \\sin{\\left(\\frac{\\pi m w}{2 L_{x}} \\right)} \\sin{\\left(\\frac{\\pi m x_{c}}{L_{x}} \\right)} \\sin{\\left(\\frac{\\pi h n}{2 L_{y}} \\right)} \\sin{\\left(\\frac{\\pi n y_{c}}{L_{y}} \\right)}}{\\pi^{2} m n}\\\\\\frac{16 m_{x} \\sin{\\left(\\frac{\\pi m w}{2 L_{x}} \\right)} \\sin{\\left(\\frac{\\pi h n}{2 L_{y}} \\right)} \\sin{\\left(\\frac{\\pi n y_{c}}{L_{y}} \\right)} \\cos{\\left(\\frac{\\pi m x_{c}}{L_{x}} \\right)}}{\\pi^{2} m n}\\\\\\frac{16 m_{y} \\sin{\\left(\\frac{\\pi m w}{2 L_{x}} \\right)} \\sin{\\left(\\frac{\\pi m x_{c}}{L_{x}} \\right)} \\sin{\\left(\\frac{\\pi h n}{2 L_{y}} \\right)} \\cos{\\left(\\frac{\\pi n y_{c}}{L_{y}} \\right)}}{\\pi^{2} m n}\\end{matrix}\\right]$"
      ],
      "text/plain": [
       "Matrix([\n",
       "[  16*q*sin(pi*m*w/(2*L_x))*sin(pi*m*x_c/L_x)*sin(pi*h*n/(2*L_y))*sin(pi*n*y_c/L_y)/(pi**2*m*n)],\n",
       "[16*m_x*sin(pi*m*w/(2*L_x))*sin(pi*h*n/(2*L_y))*sin(pi*n*y_c/L_y)*cos(pi*m*x_c/L_x)/(pi**2*m*n)],\n",
       "[16*m_y*sin(pi*m*w/(2*L_x))*sin(pi*m*x_c/L_x)*sin(pi*h*n/(2*L_y))*cos(pi*n*y_c/L_y)/(pi**2*m*n)]])"
      ]
     },
     "execution_count": 30,
     "metadata": {},
     "output_type": "execute_result"
    }
   ],
   "source": [
    "f = Matrix([qmn_fz, qmn_mx, qmn_my])\n",
    "f"
   ]
  }
 ],
 "metadata": {
  "kernelspec": {
   "display_name": "Python 3.8.10 ('.sigeps': venv)",
   "language": "python",
   "name": "python3"
  },
  "language_info": {
   "codemirror_mode": {
    "name": "ipython",
    "version": 3
   },
   "file_extension": ".py",
   "mimetype": "text/x-python",
   "name": "python",
   "nbconvert_exporter": "python",
   "pygments_lexer": "ipython3",
   "version": "3.8.10"
  },
  "orig_nbformat": 4,
  "vscode": {
   "interpreter": {
    "hash": "5facf25dadae24d0f6f3d9b821e9851478f51388ee31821a60476e833f1169c6"
   }
  }
 },
 "nbformat": 4,
 "nbformat_minor": 2
}
